{
  "cells": [
    {
      "cell_type": "markdown",
      "metadata": {
        "id": "view-in-github",
        "colab_type": "text"
      },
      "source": [
        "<a href=\"https://colab.research.google.com/github/ded-mikhalych/TK_SMM_LRs/blob/main/%D0%9B%D0%A04_%D0%A1%D0%B0%D1%84%D0%BE%D0%BD%D0%BE%D0%B2%D0%B0_%D0%9F_%D0%94_%2C_%D0%9C%D0%B0%D0%BA%D1%81%D0%B8%D0%BC%D0%B5%D0%BD%D0%BA%D0%BE%D0%B2_%D0%9A_%D0%95_%2C_%D0%9C%D0%B8%D1%85%D0%B0%D0%BB%D1%8C%D1%87%D1%83%D0%BA_%D0%94_%D0%90_%2C_%D0%9E%D0%B4%D0%B8%D0%BD_%D0%92_%D0%95_.ipynb\" target=\"_parent\"><img src=\"https://colab.research.google.com/assets/colab-badge.svg\" alt=\"Open In Colab\"/></a>"
      ]
    },
    {
      "cell_type": "code",
      "execution_count": null,
      "id": "0f7b4dec",
      "metadata": {
        "id": "0f7b4dec"
      },
      "outputs": [],
      "source": [
        "import numpy as np\n",
        "import random as rnd\n",
        "import math"
      ]
    },
    {
      "cell_type": "markdown",
      "id": "31f3f4e6",
      "metadata": {
        "id": "31f3f4e6"
      },
      "source": [
        "### 4.1 Написать функцию формирования порождающей и проверочной матриц расширенного кода Голея (24, 12, 8)"
      ]
    },
    {
      "cell_type": "code",
      "execution_count": null,
      "id": "ac270675",
      "metadata": {
        "id": "ac270675"
      },
      "outputs": [],
      "source": [
        "def get_G_H_matrix():\n",
        "    b_matr = get_B_matr()\n",
        "    eye_matr = np.eye(b_matr.shape[0], dtype=int)\n",
        "    return np.hstack((eye_matr, b_matr)), np.vstack((eye_matr, b_matr))"
      ]
    },
    {
      "cell_type": "code",
      "execution_count": null,
      "id": "5be60adf",
      "metadata": {
        "id": "5be60adf"
      },
      "outputs": [],
      "source": [
        "def get_B_matr():\n",
        "    row = [1, 1, 0, 1, 1, 1, 0, 0, 0, 1, 0]\n",
        "    matrix = [row]\n",
        "    while len(matrix) != 11:\n",
        "        deleted = row.pop(0)\n",
        "        row.append(deleted)\n",
        "        matrix.append(row.copy())\n",
        "    eye_vec = np.ones((11, 1), dtype=int)\n",
        "    matrix = np.concatenate((matrix, eye_vec), axis=1)\n",
        "    eye_vec = np.ones((1, 12), dtype=int)\n",
        "    matrix = np.concatenate((matrix, eye_vec), axis=0)\n",
        "    matrix[-1][-1] = 0\n",
        "    return matrix"
      ]
    },
    {
      "cell_type": "code",
      "execution_count": null,
      "id": "0bee5e90",
      "metadata": {
        "id": "0bee5e90"
      },
      "outputs": [],
      "source": [
        "g_matr, h_matr = get_G_H_matrix()"
      ]
    },
    {
      "cell_type": "code",
      "execution_count": null,
      "id": "de546d33",
      "metadata": {
        "id": "de546d33"
      },
      "outputs": [],
      "source": [
        "g_matr"
      ]
    },
    {
      "cell_type": "code",
      "execution_count": null,
      "id": "c1979052",
      "metadata": {
        "id": "c1979052"
      },
      "outputs": [],
      "source": [
        "h_matr"
      ]
    },
    {
      "cell_type": "markdown",
      "id": "70864904",
      "metadata": {
        "id": "70864904"
      },
      "source": [
        "### 4.2. Провести исследование расширенного кода Голея для одно-, двух-, трёх- и четырёхкратных ошибок"
      ]
    },
    {
      "cell_type": "code",
      "execution_count": null,
      "id": "1404edeb",
      "metadata": {
        "id": "1404edeb"
      },
      "outputs": [],
      "source": [
        "def get_err_word(g_matr, h_matr, t, iter_max = 25):\n",
        "    row = g_matr.shape[0]\n",
        "    u = np.zeros((1, 24), dtype=int)\n",
        "    w_err = np.zeros((1, 24), dtype=int)\n",
        "\n",
        "    iterations = 0\n",
        "    while True and iterations <= iter_max:\n",
        "        idx = rnd.randint(0, row - 1)\n",
        "        word = np.array(g_matr[idx][:row])\n",
        "        w = np.dot(word, g_matr) % 2\n",
        "        print(f\"Исходное сообщение: {word}\")\n",
        "        print(f\"Отправленное сообщение: {w}\")\n",
        "        w_err = w.copy()\n",
        "        for i in range(t):\n",
        "            w_err[i] += 1\n",
        "            w_err[i] %= 2\n",
        "        print(f\"Принятое сообщение с ошибкой: {w_err}\")\n",
        "        s = np.dot(w_err, h_matr) % 2\n",
        "        print(f\"Синдром: {s}\")\n",
        "        b_matr = get_B_matr()\n",
        "        sB = np.dot(s, b_matr) % 2\n",
        "        e = np.zeros((1, 12), dtype=int)\n",
        "        if sum(s) <= 3:\n",
        "            u = hconcat(s, e)\n",
        "            break\n",
        "        elif get_rows_sum_B(s, b_matr)[0]:\n",
        "            rows_sum_B_res = get_rows_sum_B(s, b_matr)\n",
        "            e[0][rows_sum_B_res[1]] = 1\n",
        "            u = hconcat(rows_sum_B_res[2], e)\n",
        "            break\n",
        "        elif sum(sB) <= 3:\n",
        "            u = hconcat(e, sB)\n",
        "            break\n",
        "        elif get_rows_sum_B(sB, b_matr)[0]:\n",
        "            rows_sum_B_res = get_rows_sum_B(sB, b_matr)\n",
        "            e[0][rows_sum_B_res[1]] = 1\n",
        "            u = hconcat(e, rows_sum_B_res[2])\n",
        "            break\n",
        "        else:\n",
        "            print(\"Ошибка не найдена. Запускаю повторный цикл\\n\")\n",
        "            iterations += 1\n",
        "    if iterations <= iter_max:\n",
        "        print(f\"Ошибка: {u}\")\n",
        "        fixed_message = (w_err + u) % 2\n",
        "        print(f\"Исправленное сообщение: {fixed_message}\")\n",
        "        print(f\"Декодированное сообщение: {fixed_message[0][:row]}\")\n",
        "    else:\n",
        "        print(\"Ошибка: превышен лимит итераций\")"
      ]
    },
    {
      "cell_type": "code",
      "execution_count": null,
      "id": "1fd2f52f",
      "metadata": {
        "id": "1fd2f52f"
      },
      "outputs": [],
      "source": [
        "def get_rows_sum_B(s, b_matr):\n",
        "    for i in range(b_matr.shape[0]):\n",
        "        rows_sum = (s + b_matr[i]) % 2\n",
        "        if sum(rows_sum) <= 2:\n",
        "            return True, i, rows_sum\n",
        "    return False, -1, None"
      ]
    },
    {
      "cell_type": "code",
      "execution_count": null,
      "id": "c8c5760d",
      "metadata": {
        "id": "c8c5760d"
      },
      "outputs": [],
      "source": [
        "def hconcat(matr1, matr2):\n",
        "    if matr1.ndim == 1:\n",
        "        matr1 = np.array([matr1])\n",
        "    if matr2.ndim == 1:\n",
        "        matr2 = np.array([matr2])\n",
        "    return np.hstack((matr1, matr2))"
      ]
    },
    {
      "cell_type": "code",
      "execution_count": null,
      "id": "a86824e6",
      "metadata": {
        "id": "a86824e6"
      },
      "outputs": [],
      "source": [
        "t_list = [1, 2, 3, 4]"
      ]
    },
    {
      "cell_type": "code",
      "execution_count": null,
      "id": "15e6b01d",
      "metadata": {
        "id": "15e6b01d"
      },
      "outputs": [],
      "source": [
        "for t in t_list:\n",
        "    print(f\"\\033[1mИсследование расширенного кода Голея при t = {t}\\033[0m\")\n",
        "    get_err_word(g_matr, h_matr, t)\n",
        "    if (t != t_list[-1]):\n",
        "        print(\"\\n\")"
      ]
    },
    {
      "cell_type": "markdown",
      "id": "3826c493",
      "metadata": {
        "id": "3826c493"
      },
      "source": [
        "### 4.3 Написать функцию формирования порождающей и проверочных матриц кода Рида-Маллера RM(r, m) на основе параметров r и m"
      ]
    },
    {
      "cell_type": "code",
      "execution_count": null,
      "id": "aeaeba5e",
      "metadata": {
        "id": "aeaeba5e"
      },
      "outputs": [],
      "source": [
        "def get_rm_G_matr(r, m):\n",
        "    if r == 0:\n",
        "        return np.ones(2 ** m, dtype=int)\n",
        "    if r == m:\n",
        "        z = np.zeros(2 ** m, dtype=int)\n",
        "        z[-1] = 1\n",
        "        return np.vstack((get_rm_G_matr(m - 1, m), z))\n",
        "    upper_m = get_rm_G_matr(r, m - 1)\n",
        "    right_l_corner_m = get_rm_G_matr(r - 1, m - 1)\n",
        "    zeros = np.zeros(right_l_corner_m.shape, dtype=int)\n",
        "    matrix1 = np.vstack((upper_m, zeros))\n",
        "    matrix2 = np.vstack((upper_m, right_l_corner_m))\n",
        "    return np.hstack((matrix1, matrix2))"
      ]
    },
    {
      "cell_type": "code",
      "execution_count": null,
      "id": "d3d5a190",
      "metadata": {
        "id": "d3d5a190"
      },
      "outputs": [],
      "source": [
        "def get_rm_H_matr(i, m):\n",
        "    h_matr = [[1, 1], [1, -1]]\n",
        "    I_1 = np.eye(2 ** (m - i), dtype=int)\n",
        "    I_2 = np.eye(2 ** (i - 1), dtype=int)\n",
        "    # np.kron - произведение Кронекера\n",
        "    return np.kron(np.kron(I_1, h_matr), I_2)"
      ]
    },
    {
      "cell_type": "markdown",
      "id": "072fbc01",
      "metadata": {
        "id": "072fbc01"
      },
      "source": [
        "### 4.4. Провести исследование кода Рида-Маллера RM(1,3) для одно- и двукратных ошибок"
      ]
    },
    {
      "cell_type": "code",
      "execution_count": null,
      "id": "c1111d7f",
      "metadata": {
        "id": "c1111d7f"
      },
      "outputs": [],
      "source": [
        "def get_rm_err_word(g_matr, t):\n",
        "    m = int(math.log2(g_matr.shape[1]))\n",
        "    row = g_matr.shape[0]\n",
        "\n",
        "    idx = rnd.randint(0, row - 1)\n",
        "    word = np.array(g_matr[idx][:row])\n",
        "    w = np.dot(word, g_matr) % 2\n",
        "    print(f\"Исходное сообщение: {word}\")\n",
        "    print(f\"Отправленное сообщение: {w}\")\n",
        "    for i in range(t):\n",
        "        w[i] += 1\n",
        "        w[i] %= 2\n",
        "    print(f\"Принятое сообщение с ошибкой: {w}\")\n",
        "    w_err = [-1 if elem == 0 else 1 for elem in w]\n",
        "    print(f\"Изменённое сообщение: {w_err}\")\n",
        "    for i in range(1, m + 1):\n",
        "        w_err = np.dot(w_err, get_rm_H_matr(i, m))\n",
        "    print(f\"Изменённое сообщение после преобразования: {w_err}\")\n",
        "    idx = np.where(w_err == max(w_err, key=abs))[0][0]\n",
        "    byte_len = len(f\"{idx:b}\")\n",
        "    extra_zeros = \"0\" * (m - byte_len) if (m - byte_len) > 0 else \"\"\n",
        "    byte_row = f\"{extra_zeros}{idx:b}\"[::-1]\n",
        "    if w_err[idx] > 0:\n",
        "        print(f'Декодированное сообщение: {list(map(lambda x: int(x), f\"1{byte_row}\"))}')\n",
        "    else:\n",
        "        print(f'Декодированное сообщение: {list(map(lambda x: int(x), f\"0{byte_row}\"))}')"
      ]
    },
    {
      "cell_type": "code",
      "execution_count": null,
      "id": "26767034",
      "metadata": {
        "id": "26767034"
      },
      "outputs": [],
      "source": [
        "rm_g_matr = get_rm_G_matr(1, 3)"
      ]
    },
    {
      "cell_type": "code",
      "execution_count": null,
      "id": "6f0ebbb3",
      "metadata": {
        "id": "6f0ebbb3"
      },
      "outputs": [],
      "source": [
        "rm_g_matr"
      ]
    },
    {
      "cell_type": "code",
      "execution_count": null,
      "id": "dba30bbf",
      "metadata": {
        "id": "dba30bbf"
      },
      "outputs": [],
      "source": [
        "t_list_rm13 = [1, 2]"
      ]
    },
    {
      "cell_type": "code",
      "execution_count": null,
      "id": "8f8f52cf",
      "metadata": {
        "id": "8f8f52cf"
      },
      "outputs": [],
      "source": [
        "for t in t_list_rm13:\n",
        "    print(f\"\\033[1mИсследование расширенного кода Рида-Маллера RM(1, 3) при t = {t}\\033[0m\")\n",
        "    get_rm_err_word(rm_g_matr, t)\n",
        "    if (t != t_list_rm13[-1]):\n",
        "        print(\"\\n\")"
      ]
    },
    {
      "cell_type": "markdown",
      "id": "88152af1",
      "metadata": {
        "id": "88152af1"
      },
      "source": [
        "### 4.5. Провести исследование кода Рида-Маллера RM(1,4) для одно-, двух-, трёх- и четырёхкратных ошибок"
      ]
    },
    {
      "cell_type": "code",
      "execution_count": null,
      "id": "e2b4bebb",
      "metadata": {
        "id": "e2b4bebb"
      },
      "outputs": [],
      "source": [
        "rm_g_matr_rm14 = get_rm_G_matr(1, 4)"
      ]
    },
    {
      "cell_type": "code",
      "execution_count": null,
      "id": "8e958432",
      "metadata": {
        "id": "8e958432"
      },
      "outputs": [],
      "source": [
        "rm_g_matr_rm14"
      ]
    },
    {
      "cell_type": "code",
      "execution_count": null,
      "id": "a392d9f9",
      "metadata": {
        "id": "a392d9f9"
      },
      "outputs": [],
      "source": [
        "t_list_rm14 = [1, 2, 3, 4]"
      ]
    },
    {
      "cell_type": "code",
      "execution_count": null,
      "id": "0850e269",
      "metadata": {
        "id": "0850e269"
      },
      "outputs": [],
      "source": [
        "for t in t_list_rm14:\n",
        "    print(f\"\\033[1mИсследование расширенного кода Рида-Маллера RM(1, 4) при t = {t}\\033[0m\")\n",
        "    get_rm_err_word(rm_g_matr_rm14, t)\n",
        "    if (t != t_list_rm14[-1]):\n",
        "        print(\"\\n\")"
      ]
    }
  ],
  "metadata": {
    "kernelspec": {
      "display_name": "Python 3 (ipykernel)",
      "language": "python",
      "name": "python3"
    },
    "language_info": {
      "codemirror_mode": {
        "name": "ipython",
        "version": 3
      },
      "file_extension": ".py",
      "mimetype": "text/x-python",
      "name": "python",
      "nbconvert_exporter": "python",
      "pygments_lexer": "ipython3",
      "version": "3.11.1"
    },
    "colab": {
      "provenance": [],
      "include_colab_link": true
    }
  },
  "nbformat": 4,
  "nbformat_minor": 5
}