{
  "cells": [
    {
      "cell_type": "markdown",
      "metadata": {
        "id": "view-in-github",
        "colab_type": "text"
      },
      "source": [
        "<a href=\"https://colab.research.google.com/github/ded-mikhalych/TK_SMM_LRs/blob/main/%D0%9B%D0%A02_%D0%A1%D0%B0%D1%84%D0%BE%D0%BD%D0%BE%D0%B2%D0%B0_%D0%9F_%D0%94_%2C_%D0%9C%D0%B0%D0%BA%D1%81%D0%B8%D0%BC%D0%B5%D0%BD%D0%BA%D0%BE%D0%B2_%D0%9A_%D0%95_%2C_%D0%9C%D0%B8%D1%85%D0%B0%D0%BB%D1%8C%D1%87%D1%83%D0%BA_%D0%94_%D0%90_%2C_%D0%9E%D0%B4%D0%B8%D0%BD_%D0%92_%D0%95_.ipynb\" target=\"_parent\"><img src=\"https://colab.research.google.com/assets/colab-badge.svg\" alt=\"Open In Colab\"/></a>"
      ]
    },
    {
      "cell_type": "code",
      "execution_count": null,
      "id": "54e04489",
      "metadata": {
        "id": "54e04489"
      },
      "outputs": [],
      "source": [
        "import numpy as np\n",
        "import random as rnd\n",
        "import itertools"
      ]
    },
    {
      "cell_type": "markdown",
      "id": "dcea7051",
      "metadata": {
        "id": "dcea7051"
      },
      "source": [
        "# Часть 1"
      ]
    },
    {
      "cell_type": "markdown",
      "id": "7981135c",
      "metadata": {
        "id": "7981135c"
      },
      "source": [
        "## 2.1. Сформировать порождающую матрицу линейного кода (7, 4, 3)"
      ]
    },
    {
      "cell_type": "code",
      "execution_count": null,
      "id": "5ed0e7c4",
      "metadata": {
        "id": "5ed0e7c4"
      },
      "outputs": [],
      "source": [
        "def init_x_matrix(n, k, d):\n",
        "    \"\"\"\n",
        "    n - число столбцов (длина строки)\n",
        "    k - число строк\n",
        "    d - минимальное число единиц в строке -(минус) 1\n",
        "    \"\"\"\n",
        "    x_matr = []\n",
        "    while (len(x_matr) != k):\n",
        "        row = [0 for t in range(n)]\n",
        "        for _ in range(n):\n",
        "            idx = rnd.randint(0, n - 1)\n",
        "            row[idx] = 1\n",
        "            if (is_correct_row(x_matr, row, d) and not row in x_matr):\n",
        "                x_matr.append(row)\n",
        "                break\n",
        "    return np.array(x_matr)"
      ]
    },
    {
      "cell_type": "code",
      "execution_count": null,
      "id": "88025571",
      "metadata": {
        "id": "88025571"
      },
      "outputs": [],
      "source": [
        "def is_correct_row(x_matr, row, d):\n",
        "    X = x_matr.copy()\n",
        "    X.append(row)\n",
        "    flag = True\n",
        "    for i in range(1, d):\n",
        "        comb = list(itertools.permutations(X, i))\n",
        "        for c in comb:\n",
        "            sum_ = np.sum(list(c), axis=0) % 2\n",
        "            if sum_.tolist().count(1) < (d - i):\n",
        "                flag = False\n",
        "                break\n",
        "        if not flag:\n",
        "            break\n",
        "    return flag"
      ]
    },
    {
      "cell_type": "code",
      "execution_count": null,
      "id": "b17e7c3b",
      "metadata": {
        "id": "b17e7c3b"
      },
      "outputs": [],
      "source": [
        "def get_g_matr(x_matr):\n",
        "    eye_matr = np.eye(x_matr.shape[0], dtype=int)\n",
        "    return np.concatenate((eye_matr, x_matr), axis=1)"
      ]
    },
    {
      "cell_type": "code",
      "execution_count": null,
      "id": "37da23cb",
      "metadata": {
        "colab": {
          "base_uri": "https://localhost:8080/"
        },
        "id": "37da23cb",
        "outputId": "6cc7ca38-e0b7-4837-b674-b04b3befbb52"
      },
      "outputs": [
        {
          "output_type": "execute_result",
          "data": {
            "text/plain": [
              "array([[1, 0, 0, 0, 1, 1, 0],\n",
              "       [0, 1, 0, 0, 1, 0, 1],\n",
              "       [0, 0, 1, 0, 0, 1, 1],\n",
              "       [0, 0, 0, 1, 1, 1, 1]])"
            ]
          },
          "metadata": {},
          "execution_count": 5
        }
      ],
      "source": [
        "x_matr = init_x_matrix(3, 4, 3)\n",
        "g_matr = get_g_matr(x_matr)\n",
        "g_matr"
      ]
    },
    {
      "cell_type": "markdown",
      "id": "6d578436",
      "metadata": {
        "id": "6d578436"
      },
      "source": [
        "## 2.2 Сформировать проверочную матрицу на основе порождающей"
      ]
    },
    {
      "cell_type": "code",
      "execution_count": null,
      "id": "955d078a",
      "metadata": {
        "id": "955d078a"
      },
      "outputs": [],
      "source": [
        "def get_h_matr(x_matr):\n",
        "    eye_matr = np.eye(x_matr.shape[1], dtype=int)\n",
        "    return np.concatenate((x_matr, eye_matr), axis=0)"
      ]
    },
    {
      "cell_type": "code",
      "execution_count": null,
      "id": "3d650b38",
      "metadata": {
        "colab": {
          "base_uri": "https://localhost:8080/"
        },
        "id": "3d650b38",
        "outputId": "24c8c1fe-94cc-40d8-ffdc-dd80cd0193a6"
      },
      "outputs": [
        {
          "output_type": "execute_result",
          "data": {
            "text/plain": [
              "array([[1, 1, 0],\n",
              "       [1, 0, 1],\n",
              "       [0, 1, 1],\n",
              "       [1, 1, 1],\n",
              "       [1, 0, 0],\n",
              "       [0, 1, 0],\n",
              "       [0, 0, 1]])"
            ]
          },
          "metadata": {},
          "execution_count": 7
        }
      ],
      "source": [
        "h_matr = get_h_matr(x_matr)\n",
        "h_matr"
      ]
    },
    {
      "cell_type": "markdown",
      "id": "d20b483e",
      "metadata": {
        "id": "d20b483e"
      },
      "source": [
        "## 2.3 Сформировать таблицу синдромов для всех однократных ошибок"
      ]
    },
    {
      "cell_type": "code",
      "execution_count": null,
      "id": "9e246671",
      "metadata": {
        "id": "9e246671"
      },
      "outputs": [],
      "source": [
        "def get_syndrome(h_matr, t):\n",
        "    rows = h_matr.shape[0]\n",
        "    cols = h_matr.shape[1]\n",
        "    errors_list = list(np.eye(rows, dtype=int))\n",
        "\n",
        "    if len(errors_list) != (rows ** t):\n",
        "        indexes = [i for i in range(rows)]\n",
        "        combinations_list = list(itertools.combinations(indexes, t))\n",
        "        t_errors_list = []\n",
        "        for combination in combinations_list:\n",
        "            row = np.zeros(rows, dtype=int)\n",
        "            for idx in combination:\n",
        "                row[idx] = 1\n",
        "            t_errors_list.append(np.array(row))\n",
        "        zeros_matr = [np.zeros(rows, dtype=int) for _ in range(len(t_errors_list))] * t\n",
        "        for i in range(len(t_errors_list)):\n",
        "            zeros_matr[i] = t_errors_list[i]\n",
        "            zeros_matr[i + rows - 1] = t_errors_list[i]\n",
        "        errors_list.extend(zeros_matr)\n",
        "\n",
        "        for i in range(len(errors_list) - 1, -1, -1):\n",
        "            if np.any(errors_list[i]) == 0:\n",
        "                errors_list = np.delete(errors_list, i, 0)\n",
        "\n",
        "    errors_list = np.array(errors_list)\n",
        "    syndroms_list = np.dot(errors_list, h_matr) % 2\n",
        "    syndrome_dict = dict()\n",
        "    for i in range(len(syndroms_list)):\n",
        "        syndrome_dict[tuple(syndroms_list[i])] = errors_list[i]\n",
        "    return syndrome_dict"
      ]
    },
    {
      "cell_type": "code",
      "execution_count": null,
      "id": "a3589a61",
      "metadata": {
        "id": "a3589a61"
      },
      "outputs": [],
      "source": [
        "syndrome = get_syndrome(h_matr, 1)"
      ]
    },
    {
      "cell_type": "markdown",
      "id": "c1f55390",
      "metadata": {
        "id": "c1f55390"
      },
      "source": [
        "## 2.4 Сформировать кодовое слово длины n из слова длины k. Внести однократную ошибку в сформированное слово. Вычислить синдром, исправить ошибку с использованием таблицы синдромов. Убедиться в правильности полученного слова"
      ]
    },
    {
      "cell_type": "code",
      "execution_count": null,
      "id": "b0bb3964",
      "metadata": {
        "id": "b0bb3964"
      },
      "outputs": [],
      "source": [
        "def get_err_word(g_matr, h_matr, syndrome, t):\n",
        "#     если syndrome[tuple(syndrom)] выдаёт ошибку, то тогда просто перегенерируйте все матррицы заново\n",
        "    row = g_matr.shape[0]\n",
        "    idx = rnd.randint(0, row - 1)\n",
        "    u = np.array(g_matr[idx][:row])\n",
        "    v = np.dot(u, g_matr) % 2\n",
        "    print(f\"Исходное сообщение: {u}\")\n",
        "    print(f\"Отправленное сообщение: {v}\", )\n",
        "    v_err = v.copy()\n",
        "    for i in range(1, t + 1):\n",
        "        v_err[i] += 1\n",
        "        v_err[i] %= 2\n",
        "    print(f\"Принятое сообщение с ошибкой: {v_err}\")\n",
        "    print(f\"Декодированное сообщение без исправления: {v_err[:row]}\")\n",
        "    syndrom = np.dot(v_err, h_matr) % 2\n",
        "    print(f\"Синдром: {syndrom}\")\n",
        "    error = syndrome[tuple(syndrom)]\n",
        "    print(f\"Ошибка: {error}\")\n",
        "    fixed_message = (v_err + error) % 2\n",
        "    print(f\"Исправленное сообщение: {fixed_message}\")\n",
        "    print(f\"Декодированное сообщение: {fixed_message[:row]}\")"
      ]
    },
    {
      "cell_type": "code",
      "execution_count": null,
      "id": "f99b534d",
      "metadata": {
        "colab": {
          "base_uri": "https://localhost:8080/"
        },
        "id": "f99b534d",
        "outputId": "944fc33d-06f0-4356-e2e1-cedaef285a0d"
      },
      "outputs": [
        {
          "output_type": "stream",
          "name": "stdout",
          "text": [
            "Исходное сообщение: [1 0 0 0]\n",
            "Отправленное сообщение: [1 0 0 0 1 1 0]\n",
            "Принятое сообщение с ошибкой: [1 1 0 0 1 1 0]\n",
            "Декодированное сообщение без исправления: [1 1 0 0]\n",
            "Синдром: [1 0 1]\n",
            "Ошибка: [0 1 0 0 0 0 0]\n",
            "Исправленное сообщение: [1 0 0 0 1 1 0]\n",
            "Декодированное сообщение: [1 0 0 0]\n"
          ]
        }
      ],
      "source": [
        "get_err_word(g_matr, h_matr, syndrome, 1)"
      ]
    },
    {
      "cell_type": "markdown",
      "id": "bfea691d",
      "metadata": {
        "id": "bfea691d"
      },
      "source": [
        "## 2.5 Сформировать кодовое слово длины n из слова длины k. Внести двукратную ошибку в сформированное слово. Вычислить синдром, исправить ошибку с использованием таблицы синдромов. Убедиться, что полученное слово отличается от отправленного"
      ]
    },
    {
      "cell_type": "code",
      "execution_count": null,
      "id": "af893225",
      "metadata": {
        "colab": {
          "base_uri": "https://localhost:8080/"
        },
        "id": "af893225",
        "outputId": "9c65f310-ba5c-4330-b4a1-f20264fc619f"
      },
      "outputs": [
        {
          "output_type": "stream",
          "name": "stdout",
          "text": [
            "Исходное сообщение: [1 0 0 0]\n",
            "Отправленное сообщение: [1 0 0 0 1 1 0]\n",
            "Принятое сообщение с ошибкой: [1 1 1 0 1 1 0]\n",
            "Декодированное сообщение без исправления: [1 1 1 0]\n",
            "Синдром: [1 1 0]\n",
            "Ошибка: [1 0 0 0 0 0 0]\n",
            "Исправленное сообщение: [0 1 1 0 1 1 0]\n",
            "Декодированное сообщение: [0 1 1 0]\n"
          ]
        }
      ],
      "source": [
        "get_err_word(g_matr, h_matr, syndrome, 2)"
      ]
    },
    {
      "cell_type": "markdown",
      "id": "9a991a47",
      "metadata": {
        "id": "9a991a47"
      },
      "source": [
        "# Часть 2"
      ]
    },
    {
      "cell_type": "markdown",
      "id": "5ea68e3f",
      "metadata": {
        "id": "5ea68e3f"
      },
      "source": [
        "## 2.6. Сформировать порождающую матрицу линейного кода (n, k, 5)"
      ]
    },
    {
      "cell_type": "code",
      "execution_count": null,
      "id": "6ac77cd1",
      "metadata": {
        "colab": {
          "base_uri": "https://localhost:8080/"
        },
        "id": "6ac77cd1",
        "outputId": "9c98c418-872a-417e-c3b6-22f43d65d1b1"
      },
      "outputs": [
        {
          "output_type": "execute_result",
          "data": {
            "text/plain": [
              "array([[1, 0, 0, 0, 0, 1, 1, 0, 1, 0, 1, 0, 0],\n",
              "       [0, 1, 0, 0, 0, 0, 1, 1, 0, 0, 0, 1, 1],\n",
              "       [0, 0, 1, 0, 0, 0, 0, 0, 1, 1, 1, 1, 0],\n",
              "       [0, 0, 0, 1, 1, 1, 0, 1, 0, 1, 0, 0, 1]])"
            ]
          },
          "metadata": {},
          "execution_count": 13
        }
      ],
      "source": [
        "x_matr2 = init_x_matrix(9, 4, 5)\n",
        "g_matr2 = get_g_matr(x_matr2)\n",
        "g_matr2"
      ]
    },
    {
      "cell_type": "markdown",
      "id": "45654e42",
      "metadata": {
        "id": "45654e42"
      },
      "source": [
        "##  2.7 Сформировать проверочную матрицу на основе порождающей"
      ]
    },
    {
      "cell_type": "code",
      "execution_count": null,
      "id": "74bf0746",
      "metadata": {
        "colab": {
          "base_uri": "https://localhost:8080/"
        },
        "id": "74bf0746",
        "outputId": "c540b3d6-186c-40c5-87c6-440aeea3315b"
      },
      "outputs": [
        {
          "output_type": "execute_result",
          "data": {
            "text/plain": [
              "array([[0, 1, 1, 0, 1, 0, 1, 0, 0],\n",
              "       [0, 0, 1, 1, 0, 0, 0, 1, 1],\n",
              "       [0, 0, 0, 0, 1, 1, 1, 1, 0],\n",
              "       [1, 1, 0, 1, 0, 1, 0, 0, 1],\n",
              "       [1, 0, 0, 0, 0, 0, 0, 0, 0],\n",
              "       [0, 1, 0, 0, 0, 0, 0, 0, 0],\n",
              "       [0, 0, 1, 0, 0, 0, 0, 0, 0],\n",
              "       [0, 0, 0, 1, 0, 0, 0, 0, 0],\n",
              "       [0, 0, 0, 0, 1, 0, 0, 0, 0],\n",
              "       [0, 0, 0, 0, 0, 1, 0, 0, 0],\n",
              "       [0, 0, 0, 0, 0, 0, 1, 0, 0],\n",
              "       [0, 0, 0, 0, 0, 0, 0, 1, 0],\n",
              "       [0, 0, 0, 0, 0, 0, 0, 0, 1]])"
            ]
          },
          "metadata": {},
          "execution_count": 14
        }
      ],
      "source": [
        "h_matr2 = get_h_matr(x_matr2)\n",
        "h_matr2"
      ]
    },
    {
      "cell_type": "markdown",
      "id": "c0ade77f",
      "metadata": {
        "id": "c0ade77f"
      },
      "source": [
        "##  2.8 Сформировать таблицу синдромов для всех однократных и двукратных ошибок"
      ]
    },
    {
      "cell_type": "code",
      "execution_count": null,
      "id": "36f87795",
      "metadata": {
        "scrolled": false,
        "colab": {
          "base_uri": "https://localhost:8080/"
        },
        "id": "36f87795",
        "outputId": "16b96ac3-78e1-42ee-c9f7-78378de33c59"
      },
      "outputs": [
        {
          "output_type": "execute_result",
          "data": {
            "text/plain": [
              "{(0, 1, 1, 0, 1, 0, 1, 0, 0): array([1, 0, 0, 0, 0, 0, 0, 0, 0, 0, 0, 0, 0]),\n",
              " (0, 0, 1, 1, 0, 0, 0, 1, 1): array([0, 1, 0, 0, 0, 0, 0, 0, 0, 0, 0, 0, 0]),\n",
              " (0, 0, 0, 0, 1, 1, 1, 1, 0): array([0, 0, 1, 0, 0, 0, 0, 0, 0, 0, 0, 0, 0]),\n",
              " (1, 1, 0, 1, 0, 1, 0, 0, 1): array([0, 0, 0, 1, 0, 0, 0, 0, 0, 0, 0, 0, 0]),\n",
              " (1, 0, 0, 0, 0, 0, 0, 0, 0): array([0, 0, 0, 0, 1, 0, 0, 0, 0, 0, 0, 0, 0]),\n",
              " (0, 1, 0, 0, 0, 0, 0, 0, 0): array([0, 0, 0, 0, 0, 1, 0, 0, 0, 0, 0, 0, 0]),\n",
              " (0, 0, 1, 0, 0, 0, 0, 0, 0): array([0, 0, 0, 0, 0, 0, 1, 0, 0, 0, 0, 0, 0]),\n",
              " (0, 0, 0, 1, 0, 0, 0, 0, 0): array([0, 0, 0, 0, 0, 0, 0, 1, 0, 0, 0, 0, 0]),\n",
              " (0, 0, 0, 0, 1, 0, 0, 0, 0): array([0, 0, 0, 0, 0, 0, 0, 0, 1, 0, 0, 0, 0]),\n",
              " (0, 0, 0, 0, 0, 1, 0, 0, 0): array([0, 0, 0, 0, 0, 0, 0, 0, 0, 1, 0, 0, 0]),\n",
              " (0, 0, 0, 0, 0, 0, 1, 0, 0): array([0, 0, 0, 0, 0, 0, 0, 0, 0, 0, 1, 0, 0]),\n",
              " (0, 0, 0, 0, 0, 0, 0, 1, 0): array([0, 0, 0, 0, 0, 0, 0, 0, 0, 0, 0, 1, 0]),\n",
              " (0, 0, 0, 0, 0, 0, 0, 0, 1): array([0, 0, 0, 0, 0, 0, 0, 0, 0, 0, 0, 0, 1]),\n",
              " (0, 1, 0, 1, 1, 0, 1, 1, 1): array([1, 1, 0, 0, 0, 0, 0, 0, 0, 0, 0, 0, 0]),\n",
              " (0, 1, 1, 0, 0, 1, 0, 1, 0): array([1, 0, 1, 0, 0, 0, 0, 0, 0, 0, 0, 0, 0]),\n",
              " (1, 0, 1, 1, 1, 1, 1, 0, 1): array([1, 0, 0, 1, 0, 0, 0, 0, 0, 0, 0, 0, 0]),\n",
              " (1, 1, 1, 0, 1, 0, 1, 0, 0): array([1, 0, 0, 0, 1, 0, 0, 0, 0, 0, 0, 0, 0]),\n",
              " (0, 0, 1, 0, 1, 0, 1, 0, 0): array([1, 0, 0, 0, 0, 1, 0, 0, 0, 0, 0, 0, 0]),\n",
              " (0, 1, 0, 0, 1, 0, 1, 0, 0): array([1, 0, 0, 0, 0, 0, 1, 0, 0, 0, 0, 0, 0]),\n",
              " (0, 1, 1, 1, 1, 0, 1, 0, 0): array([1, 0, 0, 0, 0, 0, 0, 1, 0, 0, 0, 0, 0]),\n",
              " (0, 1, 1, 0, 0, 0, 1, 0, 0): array([1, 0, 0, 0, 0, 0, 0, 0, 1, 0, 0, 0, 0]),\n",
              " (0, 1, 1, 0, 1, 1, 1, 0, 0): array([1, 0, 0, 0, 0, 0, 0, 0, 0, 1, 0, 0, 0]),\n",
              " (0, 1, 1, 0, 1, 0, 0, 0, 0): array([1, 0, 0, 0, 0, 0, 0, 0, 0, 0, 1, 0, 0]),\n",
              " (0, 1, 1, 0, 1, 0, 1, 1, 0): array([1, 0, 0, 0, 0, 0, 0, 0, 0, 0, 0, 1, 0]),\n",
              " (0, 1, 1, 0, 1, 0, 1, 0, 1): array([1, 0, 0, 0, 0, 0, 0, 0, 0, 0, 0, 0, 1]),\n",
              " (0, 0, 1, 1, 1, 1, 1, 0, 1): array([0, 1, 1, 0, 0, 0, 0, 0, 0, 0, 0, 0, 0]),\n",
              " (1, 1, 1, 0, 0, 1, 0, 1, 0): array([0, 1, 0, 1, 0, 0, 0, 0, 0, 0, 0, 0, 0]),\n",
              " (1, 0, 1, 1, 0, 0, 0, 1, 1): array([0, 1, 0, 0, 1, 0, 0, 0, 0, 0, 0, 0, 0]),\n",
              " (0, 1, 1, 1, 0, 0, 0, 1, 1): array([0, 1, 0, 0, 0, 1, 0, 0, 0, 0, 0, 0, 0]),\n",
              " (0, 0, 0, 1, 0, 0, 0, 1, 1): array([0, 1, 0, 0, 0, 0, 1, 0, 0, 0, 0, 0, 0]),\n",
              " (0, 0, 1, 0, 0, 0, 0, 1, 1): array([0, 1, 0, 0, 0, 0, 0, 1, 0, 0, 0, 0, 0]),\n",
              " (0, 0, 1, 1, 1, 0, 0, 1, 1): array([0, 1, 0, 0, 0, 0, 0, 0, 1, 0, 0, 0, 0]),\n",
              " (0, 0, 1, 1, 0, 1, 0, 1, 1): array([0, 1, 0, 0, 0, 0, 0, 0, 0, 1, 0, 0, 0]),\n",
              " (0, 0, 1, 1, 0, 0, 1, 1, 1): array([0, 1, 0, 0, 0, 0, 0, 0, 0, 0, 1, 0, 0]),\n",
              " (0, 0, 1, 1, 0, 0, 0, 0, 1): array([0, 1, 0, 0, 0, 0, 0, 0, 0, 0, 0, 1, 0]),\n",
              " (0, 0, 1, 1, 0, 0, 0, 1, 0): array([0, 1, 0, 0, 0, 0, 0, 0, 0, 0, 0, 0, 1]),\n",
              " (1, 1, 0, 1, 1, 0, 1, 1, 1): array([0, 0, 1, 1, 0, 0, 0, 0, 0, 0, 0, 0, 0]),\n",
              " (1, 0, 0, 0, 1, 1, 1, 1, 0): array([0, 0, 1, 0, 1, 0, 0, 0, 0, 0, 0, 0, 0]),\n",
              " (0, 1, 0, 0, 1, 1, 1, 1, 0): array([0, 0, 1, 0, 0, 1, 0, 0, 0, 0, 0, 0, 0]),\n",
              " (0, 0, 1, 0, 1, 1, 1, 1, 0): array([0, 0, 1, 0, 0, 0, 1, 0, 0, 0, 0, 0, 0]),\n",
              " (0, 0, 0, 1, 1, 1, 1, 1, 0): array([0, 0, 1, 0, 0, 0, 0, 1, 0, 0, 0, 0, 0]),\n",
              " (0, 0, 0, 0, 0, 1, 1, 1, 0): array([0, 0, 1, 0, 0, 0, 0, 0, 1, 0, 0, 0, 0]),\n",
              " (0, 0, 0, 0, 1, 0, 1, 1, 0): array([0, 0, 1, 0, 0, 0, 0, 0, 0, 1, 0, 0, 0]),\n",
              " (0, 0, 0, 0, 1, 1, 0, 1, 0): array([0, 0, 1, 0, 0, 0, 0, 0, 0, 0, 1, 0, 0]),\n",
              " (0, 0, 0, 0, 1, 1, 1, 0, 0): array([0, 0, 1, 0, 0, 0, 0, 0, 0, 0, 0, 1, 0]),\n",
              " (0, 0, 0, 0, 1, 1, 1, 1, 1): array([0, 0, 1, 0, 0, 0, 0, 0, 0, 0, 0, 0, 1]),\n",
              " (0, 1, 0, 1, 0, 1, 0, 0, 1): array([0, 0, 0, 1, 1, 0, 0, 0, 0, 0, 0, 0, 0]),\n",
              " (1, 0, 0, 1, 0, 1, 0, 0, 1): array([0, 0, 0, 1, 0, 1, 0, 0, 0, 0, 0, 0, 0]),\n",
              " (1, 1, 1, 1, 0, 1, 0, 0, 1): array([0, 0, 0, 1, 0, 0, 1, 0, 0, 0, 0, 0, 0]),\n",
              " (1, 1, 0, 0, 0, 1, 0, 0, 1): array([0, 0, 0, 1, 0, 0, 0, 1, 0, 0, 0, 0, 0]),\n",
              " (1, 1, 0, 1, 1, 1, 0, 0, 1): array([0, 0, 0, 1, 0, 0, 0, 0, 1, 0, 0, 0, 0]),\n",
              " (1, 1, 0, 1, 0, 0, 0, 0, 1): array([0, 0, 0, 1, 0, 0, 0, 0, 0, 1, 0, 0, 0]),\n",
              " (1, 1, 0, 1, 0, 1, 1, 0, 1): array([0, 0, 0, 1, 0, 0, 0, 0, 0, 0, 1, 0, 0]),\n",
              " (1, 1, 0, 1, 0, 1, 0, 1, 1): array([0, 0, 0, 1, 0, 0, 0, 0, 0, 0, 0, 1, 0]),\n",
              " (1, 1, 0, 1, 0, 1, 0, 0, 0): array([0, 0, 0, 1, 0, 0, 0, 0, 0, 0, 0, 0, 1]),\n",
              " (1, 1, 0, 0, 0, 0, 0, 0, 0): array([0, 0, 0, 0, 1, 1, 0, 0, 0, 0, 0, 0, 0]),\n",
              " (1, 0, 1, 0, 0, 0, 0, 0, 0): array([0, 0, 0, 0, 1, 0, 1, 0, 0, 0, 0, 0, 0]),\n",
              " (1, 0, 0, 1, 0, 0, 0, 0, 0): array([0, 0, 0, 0, 1, 0, 0, 1, 0, 0, 0, 0, 0]),\n",
              " (1, 0, 0, 0, 1, 0, 0, 0, 0): array([0, 0, 0, 0, 1, 0, 0, 0, 1, 0, 0, 0, 0]),\n",
              " (1, 0, 0, 0, 0, 1, 0, 0, 0): array([0, 0, 0, 0, 1, 0, 0, 0, 0, 1, 0, 0, 0]),\n",
              " (1, 0, 0, 0, 0, 0, 1, 0, 0): array([0, 0, 0, 0, 1, 0, 0, 0, 0, 0, 1, 0, 0]),\n",
              " (1, 0, 0, 0, 0, 0, 0, 1, 0): array([0, 0, 0, 0, 1, 0, 0, 0, 0, 0, 0, 1, 0]),\n",
              " (1, 0, 0, 0, 0, 0, 0, 0, 1): array([0, 0, 0, 0, 1, 0, 0, 0, 0, 0, 0, 0, 1]),\n",
              " (0, 1, 1, 0, 0, 0, 0, 0, 0): array([0, 0, 0, 0, 0, 1, 1, 0, 0, 0, 0, 0, 0]),\n",
              " (0, 1, 0, 1, 0, 0, 0, 0, 0): array([0, 0, 0, 0, 0, 1, 0, 1, 0, 0, 0, 0, 0]),\n",
              " (0, 1, 0, 0, 1, 0, 0, 0, 0): array([0, 0, 0, 0, 0, 1, 0, 0, 1, 0, 0, 0, 0]),\n",
              " (0, 1, 0, 0, 0, 1, 0, 0, 0): array([0, 0, 0, 0, 0, 1, 0, 0, 0, 1, 0, 0, 0]),\n",
              " (0, 1, 0, 0, 0, 0, 1, 0, 0): array([0, 0, 0, 0, 0, 1, 0, 0, 0, 0, 1, 0, 0]),\n",
              " (0, 1, 0, 0, 0, 0, 0, 1, 0): array([0, 0, 0, 0, 0, 1, 0, 0, 0, 0, 0, 1, 0]),\n",
              " (0, 1, 0, 0, 0, 0, 0, 0, 1): array([0, 0, 0, 0, 0, 1, 0, 0, 0, 0, 0, 0, 1]),\n",
              " (0, 0, 1, 1, 0, 0, 0, 0, 0): array([0, 0, 0, 0, 0, 0, 1, 1, 0, 0, 0, 0, 0]),\n",
              " (0, 0, 1, 0, 1, 0, 0, 0, 0): array([0, 0, 0, 0, 0, 0, 1, 0, 1, 0, 0, 0, 0]),\n",
              " (0, 0, 1, 0, 0, 1, 0, 0, 0): array([0, 0, 0, 0, 0, 0, 1, 0, 0, 1, 0, 0, 0]),\n",
              " (0, 0, 1, 0, 0, 0, 1, 0, 0): array([0, 0, 0, 0, 0, 0, 1, 0, 0, 0, 1, 0, 0]),\n",
              " (0, 0, 1, 0, 0, 0, 0, 1, 0): array([0, 0, 0, 0, 0, 0, 1, 0, 0, 0, 0, 1, 0]),\n",
              " (0, 0, 1, 0, 0, 0, 0, 0, 1): array([0, 0, 0, 0, 0, 0, 1, 0, 0, 0, 0, 0, 1]),\n",
              " (0, 0, 0, 1, 1, 0, 0, 0, 0): array([0, 0, 0, 0, 0, 0, 0, 1, 1, 0, 0, 0, 0]),\n",
              " (0, 0, 0, 1, 0, 1, 0, 0, 0): array([0, 0, 0, 0, 0, 0, 0, 1, 0, 1, 0, 0, 0]),\n",
              " (0, 0, 0, 1, 0, 0, 1, 0, 0): array([0, 0, 0, 0, 0, 0, 0, 1, 0, 0, 1, 0, 0]),\n",
              " (0, 0, 0, 1, 0, 0, 0, 1, 0): array([0, 0, 0, 0, 0, 0, 0, 1, 0, 0, 0, 1, 0]),\n",
              " (0, 0, 0, 1, 0, 0, 0, 0, 1): array([0, 0, 0, 0, 0, 0, 0, 1, 0, 0, 0, 0, 1]),\n",
              " (0, 0, 0, 0, 1, 1, 0, 0, 0): array([0, 0, 0, 0, 0, 0, 0, 0, 1, 1, 0, 0, 0]),\n",
              " (0, 0, 0, 0, 1, 0, 1, 0, 0): array([0, 0, 0, 0, 0, 0, 0, 0, 1, 0, 1, 0, 0]),\n",
              " (0, 0, 0, 0, 1, 0, 0, 1, 0): array([0, 0, 0, 0, 0, 0, 0, 0, 1, 0, 0, 1, 0]),\n",
              " (0, 0, 0, 0, 1, 0, 0, 0, 1): array([0, 0, 0, 0, 0, 0, 0, 0, 1, 0, 0, 0, 1]),\n",
              " (0, 0, 0, 0, 0, 1, 1, 0, 0): array([0, 0, 0, 0, 0, 0, 0, 0, 0, 1, 1, 0, 0]),\n",
              " (0, 0, 0, 0, 0, 1, 0, 1, 0): array([0, 0, 0, 0, 0, 0, 0, 0, 0, 1, 0, 1, 0]),\n",
              " (0, 0, 0, 0, 0, 1, 0, 0, 1): array([0, 0, 0, 0, 0, 0, 0, 0, 0, 1, 0, 0, 1]),\n",
              " (0, 0, 0, 0, 0, 0, 1, 1, 0): array([0, 0, 0, 0, 0, 0, 0, 0, 0, 0, 1, 1, 0]),\n",
              " (0, 0, 0, 0, 0, 0, 1, 0, 1): array([0, 0, 0, 0, 0, 0, 0, 0, 0, 0, 1, 0, 1]),\n",
              " (0, 0, 0, 0, 0, 0, 0, 1, 1): array([0, 0, 0, 0, 0, 0, 0, 0, 0, 0, 0, 1, 1])}"
            ]
          },
          "metadata": {},
          "execution_count": 15
        }
      ],
      "source": [
        "syndrome2 = get_syndrome(h_matr2, 2)\n",
        "syndrome2"
      ]
    },
    {
      "cell_type": "markdown",
      "id": "c3fdb69e",
      "metadata": {
        "id": "c3fdb69e"
      },
      "source": [
        "##  2.9. Сформировать кодовое слово длины n из слова длины k. Внести однократную ошибку в сформированное слово. Вычислить синдром, исправить ошибку с использованием таблицы синдромов. Убедиться в правильности полученного слова"
      ]
    },
    {
      "cell_type": "code",
      "execution_count": null,
      "id": "bca6ce72",
      "metadata": {
        "colab": {
          "base_uri": "https://localhost:8080/"
        },
        "id": "bca6ce72",
        "outputId": "271a5b7a-b036-42aa-95ca-5f964b5359f7"
      },
      "outputs": [
        {
          "output_type": "stream",
          "name": "stdout",
          "text": [
            "Исходное сообщение: [0 0 0 1]\n",
            "Отправленное сообщение: [0 0 0 1 1 1 0 1 0 1 0 0 1]\n",
            "Принятое сообщение с ошибкой: [0 1 0 1 1 1 0 1 0 1 0 0 1]\n",
            "Декодированное сообщение без исправления: [0 1 0 1]\n",
            "Синдром: [0 0 1 1 0 0 0 1 1]\n",
            "Ошибка: [0 1 0 0 0 0 0 0 0 0 0 0 0]\n",
            "Исправленное сообщение: [0 0 0 1 1 1 0 1 0 1 0 0 1]\n",
            "Декодированное сообщение: [0 0 0 1]\n"
          ]
        }
      ],
      "source": [
        "get_err_word(g_matr2, h_matr2, syndrome2, 1)"
      ]
    },
    {
      "cell_type": "markdown",
      "id": "694d431f",
      "metadata": {
        "id": "694d431f"
      },
      "source": [
        "##  2.10. Сформировать кодовое слово длины n из слова длины k. Внести двукратную ошибку в сформированное слово. Вычислить синдром, исправить ошибку с использованием таблицы синдромов. Убедиться в правильности полученного слова"
      ]
    },
    {
      "cell_type": "code",
      "execution_count": null,
      "id": "c26048ff",
      "metadata": {
        "colab": {
          "base_uri": "https://localhost:8080/"
        },
        "id": "c26048ff",
        "outputId": "6d1965e3-76b3-4928-a891-500a9cdba3fd"
      },
      "outputs": [
        {
          "output_type": "stream",
          "name": "stdout",
          "text": [
            "Исходное сообщение: [0 0 1 0]\n",
            "Отправленное сообщение: [0 0 1 0 0 0 0 0 1 1 1 1 0]\n",
            "Принятое сообщение с ошибкой: [0 1 0 0 0 0 0 0 1 1 1 1 0]\n",
            "Декодированное сообщение без исправления: [0 1 0 0]\n",
            "Синдром: [0 0 1 1 1 1 1 0 1]\n",
            "Ошибка: [0 1 1 0 0 0 0 0 0 0 0 0 0]\n",
            "Исправленное сообщение: [0 0 1 0 0 0 0 0 1 1 1 1 0]\n",
            "Декодированное сообщение: [0 0 1 0]\n"
          ]
        }
      ],
      "source": [
        "get_err_word(g_matr2, h_matr2, syndrome2, 2)"
      ]
    },
    {
      "cell_type": "markdown",
      "id": "9227465f",
      "metadata": {
        "id": "9227465f"
      },
      "source": [
        "##  2.11. Сформировать кодовое слово длины n из слова длины k. Внести трёхкратную ошибку в сформированное слово. Вычислить синдром, исправить ошибку с использованием таблицы синдромов. Убедиться, что полученное слово отличается от отправленного"
      ]
    },
    {
      "cell_type": "code",
      "execution_count": null,
      "id": "ff9a5117",
      "metadata": {
        "colab": {
          "base_uri": "https://localhost:8080/"
        },
        "id": "ff9a5117",
        "outputId": "20cbec23-5f89-4c24-81a0-56344b5f8893"
      },
      "outputs": [
        {
          "output_type": "stream",
          "name": "stdout",
          "text": [
            "Исходное сообщение: [0 0 0 1]\n",
            "Отправленное сообщение: [0 0 0 1 1 1 0 1 0 1 0 0 1]\n",
            "Принятое сообщение с ошибкой: [0 1 1 0 1 1 0 1 0 1 0 0 1]\n",
            "Декодированное сообщение без исправления: [0 1 1 0]\n",
            "Синдром: [1 1 1 0 1 0 1 0 0]\n",
            "Ошибка: [1 0 0 0 1 0 0 0 0 0 0 0 0]\n",
            "Исправленное сообщение: [1 1 1 0 0 1 0 1 0 1 0 0 1]\n",
            "Декодированное сообщение: [1 1 1 0]\n"
          ]
        }
      ],
      "source": [
        "get_err_word(g_matr2, h_matr2, syndrome2, 3)"
      ]
    }
  ],
  "metadata": {
    "kernelspec": {
      "display_name": "Python 3 (ipykernel)",
      "language": "python",
      "name": "python3"
    },
    "language_info": {
      "codemirror_mode": {
        "name": "ipython",
        "version": 3
      },
      "file_extension": ".py",
      "mimetype": "text/x-python",
      "name": "python",
      "nbconvert_exporter": "python",
      "pygments_lexer": "ipython3",
      "version": "3.11.1"
    },
    "colab": {
      "provenance": [],
      "include_colab_link": true
    }
  },
  "nbformat": 4,
  "nbformat_minor": 5
}