{
  "cells": [
    {
      "cell_type": "markdown",
      "metadata": {
        "id": "view-in-github",
        "colab_type": "text"
      },
      "source": [
        "<a href=\"https://colab.research.google.com/github/ded-mikhalych/TK_SMM_LRs/blob/main/%D0%A1%D0%B0%D1%84%D0%BE%D0%BD%D0%BE%D0%B2%D0%B0_%D0%9F_%D0%94_%2C_%D0%9C%D0%B0%D0%BA%D1%81%D0%B8%D0%BC%D0%B5%D0%BD%D0%BA%D0%BE%D0%B2_%D0%9A_%D0%95_%2C_%D0%9C%D0%B8%D1%85%D0%B0%D0%BB%D1%8C%D1%87%D1%83%D0%BA_%D0%94_%D0%90__%D0%A2%D0%9A_%D0%9B%D0%A0_%E2%84%961.ipynb\" target=\"_parent\"><img src=\"https://colab.research.google.com/assets/colab-badge.svg\" alt=\"Open In Colab\"/></a>"
      ]
    },
    {
      "cell_type": "code",
      "execution_count": null,
      "id": "dc4490db",
      "metadata": {
        "id": "dc4490db"
      },
      "outputs": [],
      "source": [
        "import numpy as np\n",
        "import random as rnd"
      ]
    },
    {
      "cell_type": "code",
      "execution_count": null,
      "id": "bbb592d5",
      "metadata": {
        "id": "bbb592d5"
      },
      "outputs": [],
      "source": [
        "def ref(matrix):\n",
        "    edited_matr = matrix.copy();\n",
        "\n",
        "    row = edited_matr.shape[0]\n",
        "    column = edited_matr.shape[1]\n",
        "\n",
        "    lead_elem_idx = 0\n",
        "\n",
        "    for j in range(column):\n",
        "        non_zero_row_idxs = np.nonzero(edited_matr[ :, j] == 1)[0]\n",
        "        if len(non_zero_row_idxs) > 0 and lead_elem_idx in non_zero_row_idxs:\n",
        "            for i in range(lead_elem_idx + 1, row):\n",
        "                if edited_matr[i][j] == 1:\n",
        "                    edited_matr[i] = (edited_matr[i] + edited_matr[lead_elem_idx]) % 2\n",
        "            lead_elem_idx += 1\n",
        "\n",
        "    for i in range (row - 1, -1, -1):\n",
        "        if np.any(edited_matr[i, :]) == 0:\n",
        "            edited_matr = np.delete(edited_matr, i, 0)\n",
        "\n",
        "    return edited_matr"
      ]
    },
    {
      "cell_type": "code",
      "execution_count": null,
      "id": "3d449caf",
      "metadata": {
        "id": "3d449caf"
      },
      "outputs": [],
      "source": [
        "def rref(matrix):\n",
        "    ref_matrix = ref(matrix)\n",
        "    row = ref_matrix.shape[0]\n",
        "    for i in range(row - 1, 0, -1):\n",
        "        j = np.nonzero(ref_matrix[i] == 1)[0][0]\n",
        "        for k in range(i - 1, -1, -1):\n",
        "            if ref_matrix[k][j] == 1:\n",
        "                ref_matrix[k] = (ref_matrix[k] + ref_matrix[i]) % 2\n",
        "    return ref_matrix"
      ]
    },
    {
      "cell_type": "code",
      "execution_count": null,
      "id": "baed9f67",
      "metadata": {
        "id": "baed9f67"
      },
      "outputs": [],
      "source": [
        "def reduce_matrix(matrix):\n",
        "    edited_matr = rref(matrix)\n",
        "\n",
        "    row = edited_matr.shape[0]\n",
        "\n",
        "    for i in range(row):\n",
        "        j = np.nonzero(edited_matr[i] == 1)[0][0]\n",
        "        edited_matr = np.delete(edited_matr, j, 1)\n",
        "\n",
        "    return edited_matr"
      ]
    },
    {
      "cell_type": "code",
      "execution_count": null,
      "id": "4f25875f",
      "metadata": {
        "id": "4f25875f"
      },
      "outputs": [],
      "source": [
        "def get_lead_indexes(matrix):\n",
        "    ref_matrix = ref(matrix)\n",
        "    row = ref_matrix.shape[0]\n",
        "\n",
        "    return [np.nonzero(ref_matrix[i] == 1)[0][0] for i in range(row)]"
      ]
    },
    {
      "cell_type": "code",
      "execution_count": null,
      "id": "a90d489b",
      "metadata": {
        "id": "a90d489b"
      },
      "outputs": [],
      "source": [
        "def join_matrix(matrix):\n",
        "    X = reduce_matrix(matrix)\n",
        "\n",
        "    x_row = X.shape[0]\n",
        "    x_column = X.shape[1]\n",
        "\n",
        "    I = np.eye(x_column, dtype = int)\n",
        "\n",
        "    index_x = 0\n",
        "    index_i = 0\n",
        "\n",
        "    result_matrix = np.zeros((x_row + x_column, x_column), dtype = int)\n",
        "\n",
        "    lead_idxs = get_lead_indexes(matrix)\n",
        "    for i in range (x_row + x_column):\n",
        "        if(i in lead_idxs):\n",
        "            result_matrix[i,:] = X[index_x,:]\n",
        "            index_x += 1\n",
        "        else:\n",
        "            result_matrix[i,:] = I[index_i,:]\n",
        "            index_i += 1\n",
        "\n",
        "    return result_matrix"
      ]
    },
    {
      "cell_type": "code",
      "execution_count": null,
      "id": "148b1a59",
      "metadata": {
        "id": "148b1a59"
      },
      "outputs": [],
      "source": [
        "def loop_sum_row(matrix):\n",
        "    rref_matrix = rref(matrix)\n",
        "    res = [np.zeros(rref_matrix.shape[1], dtype=int)]\n",
        "    for row in rref_matrix:\n",
        "        for i in range(len(res)):\n",
        "            res.append((res[i] + row) % 2)\n",
        "\n",
        "    s = np.array([tuple(i) for i in res]) # собираем в матрицу\n",
        "\n",
        "    return np.unique(s, axis=0)"
      ]
    },
    {
      "cell_type": "code",
      "execution_count": null,
      "id": "992d47b5",
      "metadata": {
        "id": "992d47b5"
      },
      "outputs": [],
      "source": [
        "def mult_by_g_sum_row(matrix):\n",
        "    rref_matrix = rref(matrix)\n",
        "    k = rref_matrix.shape[0]\n",
        "\n",
        "    bins = [[int(j) for j in bin(i)[2:].zfill(k)] for i in range(2 ** k)]\n",
        "\n",
        "    return np.array([np.dot(i, rref_matrix) % 2 for i in bins])"
      ]
    },
    {
      "cell_type": "code",
      "execution_count": null,
      "id": "f89393c8",
      "metadata": {
        "id": "f89393c8"
      },
      "outputs": [],
      "source": [
        "def compare_sums(sum1, sum2):\n",
        "    unique_elems = np.unique(np.concatenate((sum1, sum2), axis = 0), axis=0)\n",
        "    return len(unique_elems) == len(sum1) == len(sum2)"
      ]
    },
    {
      "cell_type": "code",
      "execution_count": null,
      "id": "e7aa60ae",
      "metadata": {
        "id": "e7aa60ae"
      },
      "outputs": [],
      "source": [
        "def mult_sum_by_H(sumN, H):\n",
        "    return np.array([np.dot(i, H) % 2 for i in sumN])"
      ]
    },
    {
      "cell_type": "code",
      "execution_count": null,
      "id": "c1c46196",
      "metadata": {
        "id": "c1c46196"
      },
      "outputs": [],
      "source": [
        "def calc_dist(matrix):\n",
        "    min_d = len(matrix[0])\n",
        "    for i in range(len(matrix[0])):\n",
        "        for j in range(i + 1, len(matrix[0])):\n",
        "            min_d = min(min_d, sum((matrix[i] + matrix[j]) % 2))\n",
        "    return min_d, (min_d - 1)"
      ]
    },
    {
      "cell_type": "code",
      "execution_count": null,
      "id": "0f741229",
      "metadata": {
        "id": "0f741229"
      },
      "outputs": [],
      "source": [
        "def make_error(sum1, sum2, H):\n",
        "    d, t = calc_dist(sum2)\n",
        "\n",
        "    row = sum2.shape[0]\n",
        "    col = sum2.shape[1]\n",
        "\n",
        "    flagNonDetected = True\n",
        "    for i in range(row):\n",
        "        if not (sum2[i] == np.zeros(col, dtype=int)).all() and flagNonDetected:\n",
        "#             сначала ищем ошибку, которую можно заметить\n",
        "            while True:\n",
        "                detected_err_word = np.zeros(col, dtype=int)\n",
        "                for _ in range(t):\n",
        "                    idx = rnd.randint(0, col - 1)\n",
        "                    detected_err_word[idx] = 1\n",
        "                sum_res1 = (sum2[i] + detected_err_word) % 2\n",
        "                res1 = np.dot(sum_res1, H) % 2\n",
        "\n",
        "                if not (res1 == np.zeros(len(res1), dtype=int)).all():\n",
        "#                     теперь которую не заметить\n",
        "                    while True:\n",
        "                        err_word = np.zeros(col, dtype=int)\n",
        "                        for _ in range(t + 1):\n",
        "                            idx = rnd.randint(0, col - 1)\n",
        "                            err_word[idx] = 1\n",
        "                        sum_res = (sum2[i] + err_word) % 2\n",
        "                        res = np.dot(sum_res, H) % 2\n",
        "                        if (res == np.zeros(len(res), dtype=int)).all():\n",
        "                            print(f\"v = {sum2[i]}\\n\")\n",
        "                            print(f\"e1 = {detected_err_word}\")\n",
        "                            print(f\"v + e1 = {sum_res1}\")\n",
        "                            print(f\"(v + e1)@H = {res1}\\n\")\n",
        "\n",
        "                            print(f\"e2 = {err_word}\")\n",
        "                            print(f\"v + e2 = {sum_res}\")\n",
        "                            print(f\"(v + e2)@H = {np.dot(sum_res, H) % 2}\")\n",
        "                            flagNonDetected = False\n",
        "                            break\n",
        "                    break\n"
      ]
    },
    {
      "cell_type": "code",
      "execution_count": null,
      "id": "9fe515a1",
      "metadata": {
        "id": "9fe515a1"
      },
      "outputs": [],
      "source": [
        "matr = np.array([\n",
        "    [1, 0, 1, 1, 0, 0, 0, 1, 0, 0, 1],\n",
        "    [0, 0, 0, 1, 1, 1, 0, 1, 0, 1, 0],\n",
        "    [0, 0, 0, 0, 1, 0, 0, 1, 0, 0, 1],\n",
        "    [0, 0, 0, 0, 1, 0, 0, 1, 0, 0, 1],\n",
        "    [1, 0, 1, 0, 1, 1, 1, 0, 0, 0, 0],\n",
        "    [0, 0, 0, 0, 1, 0, 0, 1, 1, 1, 0],\n",
        "    [1, 0, 1, 1, 1, 0, 0, 0, 0, 0, 0]\n",
        "])"
      ]
    },
    {
      "cell_type": "code",
      "execution_count": null,
      "id": "c099b1ff",
      "metadata": {
        "id": "c099b1ff",
        "outputId": "34c9f264-1d57-43b8-cecb-1f0a48f1d377"
      },
      "outputs": [
        {
          "data": {
            "text/plain": [
              "array([[1, 0, 1, 1, 0, 0, 0, 1, 0, 0, 1],\n",
              "       [0, 0, 0, 1, 1, 1, 0, 1, 0, 1, 0],\n",
              "       [0, 0, 0, 0, 1, 0, 0, 1, 0, 0, 1],\n",
              "       [0, 0, 0, 0, 0, 0, 1, 0, 0, 1, 1],\n",
              "       [0, 0, 0, 0, 0, 0, 0, 0, 1, 1, 1]])"
            ]
          },
          "execution_count": 43,
          "metadata": {},
          "output_type": "execute_result"
        }
      ],
      "source": [
        "ref(matr)"
      ]
    },
    {
      "cell_type": "code",
      "execution_count": null,
      "id": "d69d646f",
      "metadata": {
        "id": "d69d646f",
        "outputId": "64fc1e68-74c9-4564-bea4-c631557d6f7a"
      },
      "outputs": [
        {
          "data": {
            "text/plain": [
              "array([[1, 0, 1, 0, 0, 1, 0, 1, 0, 1, 0],\n",
              "       [0, 0, 0, 1, 0, 1, 0, 0, 0, 1, 1],\n",
              "       [0, 0, 0, 0, 1, 0, 0, 1, 0, 0, 1],\n",
              "       [0, 0, 0, 0, 0, 0, 1, 0, 0, 1, 1],\n",
              "       [0, 0, 0, 0, 0, 0, 0, 0, 1, 1, 1]])"
            ]
          },
          "execution_count": 44,
          "metadata": {},
          "output_type": "execute_result"
        }
      ],
      "source": [
        "rref(matr)"
      ]
    },
    {
      "cell_type": "code",
      "execution_count": null,
      "id": "a7d872c3",
      "metadata": {
        "id": "a7d872c3",
        "outputId": "54614a74-e219-4a0c-ad87-d2f39660adba"
      },
      "outputs": [
        {
          "data": {
            "text/plain": [
              "array([[0, 1, 1, 1, 1, 0],\n",
              "       [0, 0, 1, 0, 1, 1],\n",
              "       [0, 0, 0, 1, 0, 1],\n",
              "       [0, 0, 0, 0, 1, 1],\n",
              "       [0, 0, 0, 0, 1, 1]])"
            ]
          },
          "execution_count": 45,
          "metadata": {},
          "output_type": "execute_result"
        }
      ],
      "source": [
        "reduce_matrix(matr)"
      ]
    },
    {
      "cell_type": "code",
      "execution_count": null,
      "id": "c0abae15",
      "metadata": {
        "id": "c0abae15",
        "outputId": "353563ff-aa78-4b39-e610-f1aded1f4361"
      },
      "outputs": [
        {
          "data": {
            "text/plain": [
              "array([[0, 1, 1, 1, 1, 0],\n",
              "       [1, 0, 0, 0, 0, 0],\n",
              "       [0, 1, 0, 0, 0, 0],\n",
              "       [0, 0, 1, 0, 1, 1],\n",
              "       [0, 0, 0, 1, 0, 1],\n",
              "       [0, 0, 1, 0, 0, 0],\n",
              "       [0, 0, 0, 0, 1, 1],\n",
              "       [0, 0, 0, 1, 0, 0],\n",
              "       [0, 0, 0, 0, 1, 1],\n",
              "       [0, 0, 0, 0, 1, 0],\n",
              "       [0, 0, 0, 0, 0, 1]])"
            ]
          },
          "execution_count": 46,
          "metadata": {},
          "output_type": "execute_result"
        }
      ],
      "source": [
        "H = join_matrix(matr)\n",
        "H"
      ]
    },
    {
      "cell_type": "code",
      "execution_count": null,
      "id": "8c20bf7a",
      "metadata": {
        "id": "8c20bf7a",
        "outputId": "0ba61eb9-4df2-4a55-ac59-b046f592d25c"
      },
      "outputs": [
        {
          "data": {
            "text/plain": [
              "array([[0, 0, 0, 0, 0, 0, 0, 0, 0, 0, 0],\n",
              "       [0, 0, 0, 0, 0, 0, 0, 0, 1, 1, 1],\n",
              "       [0, 0, 0, 0, 0, 0, 1, 0, 0, 1, 1],\n",
              "       [0, 0, 0, 0, 0, 0, 1, 0, 1, 0, 0],\n",
              "       [0, 0, 0, 0, 1, 0, 0, 1, 0, 0, 1],\n",
              "       [0, 0, 0, 0, 1, 0, 0, 1, 1, 1, 0],\n",
              "       [0, 0, 0, 0, 1, 0, 1, 1, 0, 1, 0],\n",
              "       [0, 0, 0, 0, 1, 0, 1, 1, 1, 0, 1],\n",
              "       [0, 0, 0, 1, 0, 1, 0, 0, 0, 1, 1],\n",
              "       [0, 0, 0, 1, 0, 1, 0, 0, 1, 0, 0],\n",
              "       [0, 0, 0, 1, 0, 1, 1, 0, 0, 0, 0],\n",
              "       [0, 0, 0, 1, 0, 1, 1, 0, 1, 1, 1],\n",
              "       [0, 0, 0, 1, 1, 1, 0, 1, 0, 1, 0],\n",
              "       [0, 0, 0, 1, 1, 1, 0, 1, 1, 0, 1],\n",
              "       [0, 0, 0, 1, 1, 1, 1, 1, 0, 0, 1],\n",
              "       [0, 0, 0, 1, 1, 1, 1, 1, 1, 1, 0],\n",
              "       [1, 0, 1, 0, 0, 1, 0, 1, 0, 1, 0],\n",
              "       [1, 0, 1, 0, 0, 1, 0, 1, 1, 0, 1],\n",
              "       [1, 0, 1, 0, 0, 1, 1, 1, 0, 0, 1],\n",
              "       [1, 0, 1, 0, 0, 1, 1, 1, 1, 1, 0],\n",
              "       [1, 0, 1, 0, 1, 1, 0, 0, 0, 1, 1],\n",
              "       [1, 0, 1, 0, 1, 1, 0, 0, 1, 0, 0],\n",
              "       [1, 0, 1, 0, 1, 1, 1, 0, 0, 0, 0],\n",
              "       [1, 0, 1, 0, 1, 1, 1, 0, 1, 1, 1],\n",
              "       [1, 0, 1, 1, 0, 0, 0, 1, 0, 0, 1],\n",
              "       [1, 0, 1, 1, 0, 0, 0, 1, 1, 1, 0],\n",
              "       [1, 0, 1, 1, 0, 0, 1, 1, 0, 1, 0],\n",
              "       [1, 0, 1, 1, 0, 0, 1, 1, 1, 0, 1],\n",
              "       [1, 0, 1, 1, 1, 0, 0, 0, 0, 0, 0],\n",
              "       [1, 0, 1, 1, 1, 0, 0, 0, 1, 1, 1],\n",
              "       [1, 0, 1, 1, 1, 0, 1, 0, 0, 1, 1],\n",
              "       [1, 0, 1, 1, 1, 0, 1, 0, 1, 0, 0]])"
            ]
          },
          "execution_count": 47,
          "metadata": {},
          "output_type": "execute_result"
        }
      ],
      "source": [
        "sum1 = loop_sum_row(matr)\n",
        "sum1"
      ]
    },
    {
      "cell_type": "code",
      "execution_count": null,
      "id": "cf9807f1",
      "metadata": {
        "id": "cf9807f1",
        "outputId": "06186784-f544-4039-cb56-1f8e68d735fd"
      },
      "outputs": [
        {
          "data": {
            "text/plain": [
              "array([[0, 0, 0, 0, 0, 0, 0, 0, 0, 0, 0],\n",
              "       [0, 0, 0, 0, 0, 0, 0, 0, 1, 1, 1],\n",
              "       [0, 0, 0, 0, 0, 0, 1, 0, 0, 1, 1],\n",
              "       [0, 0, 0, 0, 0, 0, 1, 0, 1, 0, 0],\n",
              "       [0, 0, 0, 0, 1, 0, 0, 1, 0, 0, 1],\n",
              "       [0, 0, 0, 0, 1, 0, 0, 1, 1, 1, 0],\n",
              "       [0, 0, 0, 0, 1, 0, 1, 1, 0, 1, 0],\n",
              "       [0, 0, 0, 0, 1, 0, 1, 1, 1, 0, 1],\n",
              "       [0, 0, 0, 1, 0, 1, 0, 0, 0, 1, 1],\n",
              "       [0, 0, 0, 1, 0, 1, 0, 0, 1, 0, 0],\n",
              "       [0, 0, 0, 1, 0, 1, 1, 0, 0, 0, 0],\n",
              "       [0, 0, 0, 1, 0, 1, 1, 0, 1, 1, 1],\n",
              "       [0, 0, 0, 1, 1, 1, 0, 1, 0, 1, 0],\n",
              "       [0, 0, 0, 1, 1, 1, 0, 1, 1, 0, 1],\n",
              "       [0, 0, 0, 1, 1, 1, 1, 1, 0, 0, 1],\n",
              "       [0, 0, 0, 1, 1, 1, 1, 1, 1, 1, 0],\n",
              "       [1, 0, 1, 0, 0, 1, 0, 1, 0, 1, 0],\n",
              "       [1, 0, 1, 0, 0, 1, 0, 1, 1, 0, 1],\n",
              "       [1, 0, 1, 0, 0, 1, 1, 1, 0, 0, 1],\n",
              "       [1, 0, 1, 0, 0, 1, 1, 1, 1, 1, 0],\n",
              "       [1, 0, 1, 0, 1, 1, 0, 0, 0, 1, 1],\n",
              "       [1, 0, 1, 0, 1, 1, 0, 0, 1, 0, 0],\n",
              "       [1, 0, 1, 0, 1, 1, 1, 0, 0, 0, 0],\n",
              "       [1, 0, 1, 0, 1, 1, 1, 0, 1, 1, 1],\n",
              "       [1, 0, 1, 1, 0, 0, 0, 1, 0, 0, 1],\n",
              "       [1, 0, 1, 1, 0, 0, 0, 1, 1, 1, 0],\n",
              "       [1, 0, 1, 1, 0, 0, 1, 1, 0, 1, 0],\n",
              "       [1, 0, 1, 1, 0, 0, 1, 1, 1, 0, 1],\n",
              "       [1, 0, 1, 1, 1, 0, 0, 0, 0, 0, 0],\n",
              "       [1, 0, 1, 1, 1, 0, 0, 0, 1, 1, 1],\n",
              "       [1, 0, 1, 1, 1, 0, 1, 0, 0, 1, 1],\n",
              "       [1, 0, 1, 1, 1, 0, 1, 0, 1, 0, 0]], dtype=int32)"
            ]
          },
          "execution_count": 48,
          "metadata": {},
          "output_type": "execute_result"
        }
      ],
      "source": [
        "sum2 = mult_by_g_sum_row(matr)\n",
        "sum2"
      ]
    },
    {
      "cell_type": "code",
      "execution_count": null,
      "id": "f92ebc69",
      "metadata": {
        "id": "f92ebc69",
        "outputId": "da302c9b-932b-4861-bf24-e216a9acbbc0"
      },
      "outputs": [
        {
          "data": {
            "text/plain": [
              "True"
            ]
          },
          "execution_count": 49,
          "metadata": {},
          "output_type": "execute_result"
        }
      ],
      "source": [
        "compare_sums(sum1, sum2)"
      ]
    },
    {
      "cell_type": "code",
      "execution_count": null,
      "id": "7f0fbc17",
      "metadata": {
        "id": "7f0fbc17",
        "outputId": "d9872dc7-19f7-4975-9bcb-7d3c0a7796cd"
      },
      "outputs": [
        {
          "data": {
            "text/plain": [
              "array([[0, 0, 0, 0, 0, 0],\n",
              "       [0, 0, 0, 0, 0, 0],\n",
              "       [0, 0, 0, 0, 0, 0],\n",
              "       [0, 0, 0, 0, 0, 0],\n",
              "       [0, 0, 0, 0, 0, 0],\n",
              "       [0, 0, 0, 0, 0, 0],\n",
              "       [0, 0, 0, 0, 0, 0],\n",
              "       [0, 0, 0, 0, 0, 0],\n",
              "       [0, 0, 0, 0, 0, 0],\n",
              "       [0, 0, 0, 0, 0, 0],\n",
              "       [0, 0, 0, 0, 0, 0],\n",
              "       [0, 0, 0, 0, 0, 0],\n",
              "       [0, 0, 0, 0, 0, 0],\n",
              "       [0, 0, 0, 0, 0, 0],\n",
              "       [0, 0, 0, 0, 0, 0],\n",
              "       [0, 0, 0, 0, 0, 0],\n",
              "       [0, 0, 0, 0, 0, 0],\n",
              "       [0, 0, 0, 0, 0, 0],\n",
              "       [0, 0, 0, 0, 0, 0],\n",
              "       [0, 0, 0, 0, 0, 0],\n",
              "       [0, 0, 0, 0, 0, 0],\n",
              "       [0, 0, 0, 0, 0, 0],\n",
              "       [0, 0, 0, 0, 0, 0],\n",
              "       [0, 0, 0, 0, 0, 0],\n",
              "       [0, 0, 0, 0, 0, 0],\n",
              "       [0, 0, 0, 0, 0, 0],\n",
              "       [0, 0, 0, 0, 0, 0],\n",
              "       [0, 0, 0, 0, 0, 0],\n",
              "       [0, 0, 0, 0, 0, 0],\n",
              "       [0, 0, 0, 0, 0, 0],\n",
              "       [0, 0, 0, 0, 0, 0],\n",
              "       [0, 0, 0, 0, 0, 0]], dtype=int32)"
            ]
          },
          "execution_count": 50,
          "metadata": {},
          "output_type": "execute_result"
        }
      ],
      "source": [
        "mult_sum_by_H(sum1, H)"
      ]
    },
    {
      "cell_type": "code",
      "execution_count": null,
      "id": "c4b4a1c3",
      "metadata": {
        "id": "c4b4a1c3",
        "outputId": "9e1f6772-9ac1-4565-e424-f1f272ca22c0"
      },
      "outputs": [
        {
          "data": {
            "text/plain": [
              "array([[0, 0, 0, 0, 0, 0],\n",
              "       [0, 0, 0, 0, 0, 0],\n",
              "       [0, 0, 0, 0, 0, 0],\n",
              "       [0, 0, 0, 0, 0, 0],\n",
              "       [0, 0, 0, 0, 0, 0],\n",
              "       [0, 0, 0, 0, 0, 0],\n",
              "       [0, 0, 0, 0, 0, 0],\n",
              "       [0, 0, 0, 0, 0, 0],\n",
              "       [0, 0, 0, 0, 0, 0],\n",
              "       [0, 0, 0, 0, 0, 0],\n",
              "       [0, 0, 0, 0, 0, 0],\n",
              "       [0, 0, 0, 0, 0, 0],\n",
              "       [0, 0, 0, 0, 0, 0],\n",
              "       [0, 0, 0, 0, 0, 0],\n",
              "       [0, 0, 0, 0, 0, 0],\n",
              "       [0, 0, 0, 0, 0, 0],\n",
              "       [0, 0, 0, 0, 0, 0],\n",
              "       [0, 0, 0, 0, 0, 0],\n",
              "       [0, 0, 0, 0, 0, 0],\n",
              "       [0, 0, 0, 0, 0, 0],\n",
              "       [0, 0, 0, 0, 0, 0],\n",
              "       [0, 0, 0, 0, 0, 0],\n",
              "       [0, 0, 0, 0, 0, 0],\n",
              "       [0, 0, 0, 0, 0, 0],\n",
              "       [0, 0, 0, 0, 0, 0],\n",
              "       [0, 0, 0, 0, 0, 0],\n",
              "       [0, 0, 0, 0, 0, 0],\n",
              "       [0, 0, 0, 0, 0, 0],\n",
              "       [0, 0, 0, 0, 0, 0],\n",
              "       [0, 0, 0, 0, 0, 0],\n",
              "       [0, 0, 0, 0, 0, 0],\n",
              "       [0, 0, 0, 0, 0, 0]], dtype=int32)"
            ]
          },
          "execution_count": 51,
          "metadata": {},
          "output_type": "execute_result"
        }
      ],
      "source": [
        "mult_sum_by_H(sum2, H)"
      ]
    },
    {
      "cell_type": "code",
      "execution_count": null,
      "id": "bb6fc919",
      "metadata": {
        "id": "bb6fc919",
        "outputId": "cedd976c-0ebe-4ddd-faa2-1564f3af428d"
      },
      "outputs": [
        {
          "name": "stdout",
          "output_type": "stream",
          "text": [
            "d = 2 \n",
            "t = 1\n"
          ]
        }
      ],
      "source": [
        "d, t = calc_dist(sum2)\n",
        "print(\"d =\", d, \"\\nt =\", t)"
      ]
    },
    {
      "cell_type": "code",
      "execution_count": null,
      "id": "3894e3ac",
      "metadata": {
        "id": "3894e3ac",
        "outputId": "85e02044-265d-4ff9-f70c-0f03f90d00ce"
      },
      "outputs": [
        {
          "name": "stdout",
          "output_type": "stream",
          "text": [
            "v = [0 0 0 0 0 0 0 0 1 1 1]\n",
            "\n",
            "e1 = [0 0 0 0 0 1 0 0 0 0 0]\n",
            "v + e1 = [0 0 0 0 0 1 0 0 1 1 1]\n",
            "(v + e1)@H = [0 0 1 0 0 0]\n",
            "\n",
            "e2 = [0 0 0 0 0 0 1 0 1 0 0]\n",
            "v + e2 = [0 0 0 0 0 0 1 0 0 1 1]\n",
            "(v + e2)@H = [0 0 0 0 0 0]\n"
          ]
        }
      ],
      "source": [
        "make_error(sum1, sum2, H)"
      ]
    },
    {
      "cell_type": "code",
      "execution_count": null,
      "id": "59471b2d",
      "metadata": {
        "id": "59471b2d"
      },
      "outputs": [],
      "source": []
    }
  ],
  "metadata": {
    "kernelspec": {
      "display_name": "Python 3 (ipykernel)",
      "language": "python",
      "name": "python3"
    },
    "language_info": {
      "codemirror_mode": {
        "name": "ipython",
        "version": 3
      },
      "file_extension": ".py",
      "mimetype": "text/x-python",
      "name": "python",
      "nbconvert_exporter": "python",
      "pygments_lexer": "ipython3",
      "version": "3.11.1"
    },
    "colab": {
      "provenance": [],
      "include_colab_link": true
    }
  },
  "nbformat": 4,
  "nbformat_minor": 5
}