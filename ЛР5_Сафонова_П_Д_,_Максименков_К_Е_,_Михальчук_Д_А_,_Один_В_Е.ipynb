{
  "cells": [
    {
      "cell_type": "markdown",
      "metadata": {
        "id": "view-in-github",
        "colab_type": "text"
      },
      "source": [
        "<a href=\"https://colab.research.google.com/github/ded-mikhalych/TK_SMM_LRs/blob/main/%D0%9B%D0%A05_%D0%A1%D0%B0%D1%84%D0%BE%D0%BD%D0%BE%D0%B2%D0%B0_%D0%9F_%D0%94_%2C_%D0%9C%D0%B0%D0%BA%D1%81%D0%B8%D0%BC%D0%B5%D0%BD%D0%BA%D0%BE%D0%B2_%D0%9A_%D0%95_%2C_%D0%9C%D0%B8%D1%85%D0%B0%D0%BB%D1%8C%D1%87%D1%83%D0%BA_%D0%94_%D0%90_%2C_%D0%9E%D0%B4%D0%B8%D0%BD_%D0%92_%D0%95.ipynb\" target=\"_parent\"><img src=\"https://colab.research.google.com/assets/colab-badge.svg\" alt=\"Open In Colab\"/></a>"
      ]
    },
    {
      "cell_type": "code",
      "execution_count": null,
      "id": "48bea09e",
      "metadata": {
        "id": "48bea09e"
      },
      "outputs": [],
      "source": [
        "import numpy as np\n",
        "from itertools import combinations\n",
        "import random as rnd\n",
        "import math"
      ]
    },
    {
      "cell_type": "markdown",
      "id": "8cd378c6",
      "metadata": {
        "id": "8cd378c6"
      },
      "source": [
        "### 5.1 Написать функцию формирования порождающей матрицы кода Рида-Маллера (r,m) в каноническом виде для произвольно заданных r и m"
      ]
    },
    {
      "cell_type": "code",
      "execution_count": null,
      "id": "497ddb40",
      "metadata": {
        "id": "497ddb40"
      },
      "outputs": [],
      "source": [
        "def get_basis_order(n, m):\n",
        "    ans = []\n",
        "    for i in range(n):\n",
        "        binI = f'{i:b}'[::-1]\n",
        "        length = len(binI)\n",
        "        if length < m:\n",
        "            binI += '0' * (m - length)\n",
        "        ans.append(binI)\n",
        "    return ans"
      ]
    },
    {
      "cell_type": "code",
      "execution_count": null,
      "id": "c97c10f3",
      "metadata": {
        "id": "c97c10f3"
      },
      "outputs": [],
      "source": [
        "def get_vectors_order(r, m):\n",
        "    elements = list(range(0, m))\n",
        "    ans = []\n",
        "    for i in range(r + 1):\n",
        "        combinations_list = sorted(list(combinations(elements, i)), reverse=True)\n",
        "        for combination in combinations_list:\n",
        "            ans.append(list(combination))\n",
        "    return ans"
      ]
    },
    {
      "cell_type": "code",
      "execution_count": null,
      "id": "965fa6fb",
      "metadata": {
        "id": "965fa6fb"
      },
      "outputs": [],
      "source": [
        "def get_rm_G_matr(r, m):\n",
        "    n = 2 ** m\n",
        "    basis_order = get_basis_order(n, m)\n",
        "    vectors_order = get_vectors_order(r, m)\n",
        "    g_matr = np.zeros((len(vectors_order), n), dtype=int)\n",
        "    for i in range(g_matr.shape[0]):\n",
        "        for j in range(g_matr.shape[1]):\n",
        "            flag = True\n",
        "            for indx in vectors_order[i]:\n",
        "                if basis_order[j][indx] == '1':\n",
        "                    g_matr[i][j] = 0\n",
        "                    flag = False\n",
        "                    break\n",
        "            if flag:\n",
        "                g_matr[i][j] = 1\n",
        "    return g_matr, basis_order, vectors_order"
      ]
    },
    {
      "cell_type": "code",
      "execution_count": null,
      "id": "0e886f31",
      "metadata": {
        "id": "0e886f31"
      },
      "outputs": [],
      "source": [
        "g_matr_test, basis_order_test, vectors_order_test = get_rm_G_matr(5, 4)"
      ]
    },
    {
      "cell_type": "code",
      "execution_count": null,
      "id": "de2fcb5f",
      "metadata": {
        "id": "de2fcb5f",
        "outputId": "e961fada-d84a-44df-d432-e41b011e7c08"
      },
      "outputs": [
        {
          "data": {
            "text/plain": [
              "array([[1, 1, 1, 1, 1, 1, 1, 1, 1, 1, 1, 1, 1, 1, 1, 1],\n",
              "       [1, 1, 1, 1, 1, 1, 1, 1, 0, 0, 0, 0, 0, 0, 0, 0],\n",
              "       [1, 1, 1, 1, 0, 0, 0, 0, 1, 1, 1, 1, 0, 0, 0, 0],\n",
              "       [1, 1, 0, 0, 1, 1, 0, 0, 1, 1, 0, 0, 1, 1, 0, 0],\n",
              "       [1, 0, 1, 0, 1, 0, 1, 0, 1, 0, 1, 0, 1, 0, 1, 0],\n",
              "       [1, 1, 1, 1, 0, 0, 0, 0, 0, 0, 0, 0, 0, 0, 0, 0],\n",
              "       [1, 1, 0, 0, 1, 1, 0, 0, 0, 0, 0, 0, 0, 0, 0, 0],\n",
              "       [1, 1, 0, 0, 0, 0, 0, 0, 1, 1, 0, 0, 0, 0, 0, 0],\n",
              "       [1, 0, 1, 0, 1, 0, 1, 0, 0, 0, 0, 0, 0, 0, 0, 0],\n",
              "       [1, 0, 1, 0, 0, 0, 0, 0, 1, 0, 1, 0, 0, 0, 0, 0],\n",
              "       [1, 0, 0, 0, 1, 0, 0, 0, 1, 0, 0, 0, 1, 0, 0, 0],\n",
              "       [1, 1, 0, 0, 0, 0, 0, 0, 0, 0, 0, 0, 0, 0, 0, 0],\n",
              "       [1, 0, 1, 0, 0, 0, 0, 0, 0, 0, 0, 0, 0, 0, 0, 0],\n",
              "       [1, 0, 0, 0, 1, 0, 0, 0, 0, 0, 0, 0, 0, 0, 0, 0],\n",
              "       [1, 0, 0, 0, 0, 0, 0, 0, 1, 0, 0, 0, 0, 0, 0, 0],\n",
              "       [1, 0, 0, 0, 0, 0, 0, 0, 0, 0, 0, 0, 0, 0, 0, 0]])"
            ]
          },
          "execution_count": 95,
          "metadata": {},
          "output_type": "execute_result"
        }
      ],
      "source": [
        "g_matr_test"
      ]
    },
    {
      "cell_type": "markdown",
      "id": "4d2dea74",
      "metadata": {
        "id": "4d2dea74"
      },
      "source": [
        "### 5.2 Реализовать алгоритм мажоритарного декодирования для кода Рида-Маллера"
      ]
    },
    {
      "cell_type": "code",
      "execution_count": null,
      "id": "c7b744ec",
      "metadata": {
        "id": "c7b744ec"
      },
      "outputs": [],
      "source": [
        "def get_combinations(m, count):\n",
        "    elements = list(range(0, m))\n",
        "    return sorted(list(combinations(elements, count)))"
      ]
    },
    {
      "cell_type": "code",
      "execution_count": null,
      "id": "e573463b",
      "metadata": {
        "id": "e573463b"
      },
      "outputs": [],
      "source": [
        "def get_complement(m, I):\n",
        "    Zm = list(range(0, m))\n",
        "    return [i for i in Zm if i not in I]"
      ]
    },
    {
      "cell_type": "code",
      "execution_count": null,
      "id": "2dfed808",
      "metadata": {
        "id": "2dfed808"
      },
      "outputs": [],
      "source": [
        "def get_Hj(g_matr, basis_order, vectors_order, Jc, m):\n",
        "    Hj = []\n",
        "    J = list(Jc)\n",
        "    if J == list(range(0, m)):\n",
        "        str_var = vectors_order.index([])\n",
        "    else:\n",
        "        str_var = vectors_order.index(J)\n",
        "    for i in range(len(g_matr[str_var])):\n",
        "        if g_matr[str_var][i] == 1:\n",
        "            Hj.append(basis_order[i])\n",
        "    return Hj"
      ]
    },
    {
      "cell_type": "code",
      "execution_count": null,
      "id": "1dc175f9",
      "metadata": {
        "id": "1dc175f9"
      },
      "outputs": [],
      "source": [
        "def get_V(Jc, basis_order, hj):\n",
        "    v = []\n",
        "    for pos in basis_order:\n",
        "        flag = True\n",
        "        for j in Jc:\n",
        "            if pos[j] != hj[j]:\n",
        "                v.append(0)\n",
        "                flag = False\n",
        "                break\n",
        "        if flag:\n",
        "            v.append(1)\n",
        "    return v"
      ]
    },
    {
      "cell_type": "code",
      "execution_count": null,
      "id": "54380e5d",
      "metadata": {
        "id": "54380e5d"
      },
      "outputs": [],
      "source": [
        "def get_Mj(W, m, basis_order, r, g_matr, vectors_order):\n",
        "    M = {}\n",
        "    for I in range(r, -1, -1):\n",
        "        if I == r:\n",
        "            w = W\n",
        "        else:\n",
        "            for key in sorted(M):\n",
        "                if len(key) == I + 1 and M[key] == 1:\n",
        "                    _w = w\n",
        "                    w = []\n",
        "                    v = g_matr[vectors_order.index(list(key))]\n",
        "                    for e in range(len(_w)):\n",
        "                        w.append((_w[e] + v[e]) % 2)\n",
        "                    break\n",
        "        J = get_combinations(m, I)\n",
        "        for j in J:\n",
        "            Jc = get_complement(m, j)\n",
        "            Hj = get_Hj(g_matr, basis_order, vectors_order, j, m)\n",
        "            count1 = 0\n",
        "            count0 = 0\n",
        "            for hj in Hj:\n",
        "                V = get_V(Jc, basis_order, hj)\n",
        "\n",
        "                temp = []\n",
        "                s = 0\n",
        "                for k in range(len(V)):\n",
        "                    temp.append((V[k] or w[k]))\n",
        "                    s += temp[-1] if temp[-1] == 1 else 0\n",
        "                if Jc == list(range(0,m)):\n",
        "                    M[j] = 0\n",
        "                    break\n",
        "                if ((s + 1) % 2) == 1:\n",
        "                    count1 += 1\n",
        "                else:\n",
        "                    count0 += 1\n",
        "\n",
        "                if count1 > 2 ** (m - I - 1):\n",
        "                    M[j] = 1\n",
        "                    break\n",
        "                elif count0 > 2 ** (m - I - 1):\n",
        "                    M[j] = 0\n",
        "                    break\n",
        "    return M"
      ]
    },
    {
      "cell_type": "markdown",
      "id": "a82321e1",
      "metadata": {
        "id": "a82321e1"
      },
      "source": [
        "### 5.3 Провести экспериментальную проверку алгоритма декодирования для кода Рида-Маллера (2,4)"
      ]
    },
    {
      "cell_type": "code",
      "execution_count": null,
      "id": "2633919c",
      "metadata": {
        "id": "2633919c"
      },
      "outputs": [],
      "source": [
        "def get_err_word(g_matr, r, basis_order, vectors_order, t):\n",
        "    m = int(math.log2(g_matr.shape[1]))\n",
        "    row = g_matr.shape[0]\n",
        "\n",
        "    idx = rnd.randint(0, row - 1)\n",
        "    word = np.array(g_matr[idx][:row])\n",
        "    w = np.dot(word, g_matr) % 2\n",
        "    print(f\"Исходное сообщение: {word}\")\n",
        "    print(f\"Отправленное сообщение: {w}\")\n",
        "    for i in range(t):\n",
        "        w[i] += 1\n",
        "        w[i] %= 2\n",
        "    print(f\"Принятое сообщение с ошибкой: {w}\")\n",
        "    M = get_Mj(w, m, basis_order, r, g_matr, vectors_order)\n",
        "    u = []\n",
        "    for i, j in M.items():\n",
        "        u.append(j)\n",
        "    u = u[::-1]\n",
        "    print(f\"Изменённое сообщение после преобразования: {u}\")\n",
        "    try:\n",
        "        print(f\"Декодированное сообщение: {np.dot(u, g_matr) % 2}\")\n",
        "    except:\n",
        "        print(\"Произошла ошибка, необходимо повторно отправить сообщение\")"
      ]
    },
    {
      "cell_type": "code",
      "execution_count": null,
      "id": "7aeee5de",
      "metadata": {
        "id": "7aeee5de"
      },
      "outputs": [],
      "source": [
        "r, m = 2, 4\n",
        "rm_g_matr, basis_order, vectors_order = get_rm_G_matr(r, m)"
      ]
    },
    {
      "cell_type": "code",
      "execution_count": null,
      "id": "b238b256",
      "metadata": {
        "id": "b238b256",
        "outputId": "408449ca-e288-4e78-d7c4-8c4c38574c0d"
      },
      "outputs": [
        {
          "data": {
            "text/plain": [
              "array([[1, 1, 1, 1, 1, 1, 1, 1, 1, 1, 1, 1, 1, 1, 1, 1],\n",
              "       [1, 1, 1, 1, 1, 1, 1, 1, 0, 0, 0, 0, 0, 0, 0, 0],\n",
              "       [1, 1, 1, 1, 0, 0, 0, 0, 1, 1, 1, 1, 0, 0, 0, 0],\n",
              "       [1, 1, 0, 0, 1, 1, 0, 0, 1, 1, 0, 0, 1, 1, 0, 0],\n",
              "       [1, 0, 1, 0, 1, 0, 1, 0, 1, 0, 1, 0, 1, 0, 1, 0],\n",
              "       [1, 1, 1, 1, 0, 0, 0, 0, 0, 0, 0, 0, 0, 0, 0, 0],\n",
              "       [1, 1, 0, 0, 1, 1, 0, 0, 0, 0, 0, 0, 0, 0, 0, 0],\n",
              "       [1, 1, 0, 0, 0, 0, 0, 0, 1, 1, 0, 0, 0, 0, 0, 0],\n",
              "       [1, 0, 1, 0, 1, 0, 1, 0, 0, 0, 0, 0, 0, 0, 0, 0],\n",
              "       [1, 0, 1, 0, 0, 0, 0, 0, 1, 0, 1, 0, 0, 0, 0, 0],\n",
              "       [1, 0, 0, 0, 1, 0, 0, 0, 1, 0, 0, 0, 1, 0, 0, 0]])"
            ]
          },
          "execution_count": 103,
          "metadata": {},
          "output_type": "execute_result"
        }
      ],
      "source": [
        "rm_g_matr"
      ]
    },
    {
      "cell_type": "code",
      "execution_count": null,
      "id": "ff972a0c",
      "metadata": {
        "id": "ff972a0c"
      },
      "outputs": [],
      "source": [
        "t_list = [1, 2]"
      ]
    },
    {
      "cell_type": "code",
      "execution_count": null,
      "id": "f4c12966",
      "metadata": {
        "id": "f4c12966",
        "outputId": "1771b192-e458-4ab0-b66f-ecc370d5f7b1"
      },
      "outputs": [
        {
          "name": "stdout",
          "output_type": "stream",
          "text": [
            "\u001b[1mЭкспериментальная проверка алгоритма декодрования кода Рида-Маллера RM(2, 4) при t = 1\u001b[0m\n",
            "Исходное сообщение: [1 0 1 0 1 0 1 0 0 0 0]\n",
            "Отправленное сообщение: [0 1 1 0 1 0 0 1 1 0 1 0 0 1 0 1]\n",
            "Принятое сообщение с ошибкой: [1 1 1 0 1 0 0 1 1 0 1 0 0 1 0 1]\n",
            "Изменённое сообщение после преобразования: [0, 0, 1, 0, 1, 0, 1, 0, 0, 0, 0]\n",
            "Декодированное сообщение: [1 0 0 1 0 1 1 0 0 1 0 1 1 0 1 0]\n",
            "\n",
            "\n",
            "\u001b[1mЭкспериментальная проверка алгоритма декодрования кода Рида-Маллера RM(2, 4) при t = 2\u001b[0m\n",
            "Исходное сообщение: [1 0 1 0 1 0 1 0 1 0 1]\n",
            "Отправленное сообщение: [0 1 0 0 1 0 1 1 0 0 1 0 1 1 0 1]\n",
            "Принятое сообщение с ошибкой: [1 0 0 0 1 0 1 1 0 0 1 0 1 1 0 1]\n",
            "Изменённое сообщение после преобразования: [0, 0, 1, 0]\n",
            "Произошла ошибка, необходимо повторно отправить сообщение\n"
          ]
        }
      ],
      "source": [
        "for t in t_list:\n",
        "    print(f\"\\033[1mЭкспериментальная проверка алгоритма декодрования кода Рида-Маллера RM(2, 4) при t = {t}\\033[0m\")\n",
        "    get_err_word(rm_g_matr, r, basis_order, vectors_order, t)\n",
        "    if (t != t_list[-1]):\n",
        "        print(\"\\n\")"
      ]
    }
  ],
  "metadata": {
    "kernelspec": {
      "display_name": "Python 3 (ipykernel)",
      "language": "python",
      "name": "python3"
    },
    "language_info": {
      "codemirror_mode": {
        "name": "ipython",
        "version": 3
      },
      "file_extension": ".py",
      "mimetype": "text/x-python",
      "name": "python",
      "nbconvert_exporter": "python",
      "pygments_lexer": "ipython3",
      "version": "3.11.1"
    },
    "colab": {
      "provenance": [],
      "include_colab_link": true
    }
  },
  "nbformat": 4,
  "nbformat_minor": 5
}