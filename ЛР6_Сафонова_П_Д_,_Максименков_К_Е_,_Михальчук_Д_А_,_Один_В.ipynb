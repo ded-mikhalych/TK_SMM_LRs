{
  "cells": [
    {
      "cell_type": "markdown",
      "metadata": {
        "id": "view-in-github",
        "colab_type": "text"
      },
      "source": [
        "<a href=\"https://colab.research.google.com/github/ded-mikhalych/TK_SMM_LRs/blob/main/%D0%9B%D0%A06_%D0%A1%D0%B0%D1%84%D0%BE%D0%BD%D0%BE%D0%B2%D0%B0_%D0%9F_%D0%94_%2C_%D0%9C%D0%B0%D0%BA%D1%81%D0%B8%D0%BC%D0%B5%D0%BD%D0%BA%D0%BE%D0%B2_%D0%9A_%D0%95_%2C_%D0%9C%D0%B8%D1%85%D0%B0%D0%BB%D1%8C%D1%87%D1%83%D0%BA_%D0%94_%D0%90_%2C_%D0%9E%D0%B4%D0%B8%D0%BD_%D0%92.ipynb\" target=\"_parent\"><img src=\"https://colab.research.google.com/assets/colab-badge.svg\" alt=\"Open In Colab\"/></a>"
      ]
    },
    {
      "cell_type": "code",
      "execution_count": null,
      "id": "69840af1",
      "metadata": {
        "id": "69840af1"
      },
      "outputs": [],
      "source": [
        "import numpy as np\n",
        "import random as rnd\n",
        "import itertools"
      ]
    },
    {
      "cell_type": "markdown",
      "id": "b08ac196",
      "metadata": {
        "id": "b08ac196"
      },
      "source": [
        "### 6.1 Написать функции кодирования и декодирования для циклического кода (7,4) с порождающим многочленом g(x) = 1 + $x^2$ + $x^3$, исправляющего однократные ошибки и провести исследование этого кодадля одно-, двух- и трёхкратных ошибок."
      ]
    },
    {
      "cell_type": "code",
      "execution_count": null,
      "id": "ff709814",
      "metadata": {
        "id": "ff709814"
      },
      "outputs": [],
      "source": [
        "def get_G_matr(gen_poly, k):\n",
        "    matrix = [gen_poly.copy()]\n",
        "    while len(matrix) != k:\n",
        "        deleted = gen_poly.pop(-1)\n",
        "        gen_poly.insert(0, deleted)\n",
        "        matrix.append(gen_poly.copy())\n",
        "    return np.array(matrix)"
      ]
    },
    {
      "cell_type": "code",
      "execution_count": null,
      "id": "516a2bbe",
      "metadata": {
        "id": "516a2bbe"
      },
      "outputs": [],
      "source": [
        "def decode(gen_poly, w, k, n, t, err_t):\n",
        "    sx = get_sx(gen_poly, w, n)\n",
        "\n",
        "    x = np.poly1d([1, 0])\n",
        "\n",
        "    if err_t != -1:\n",
        "        error_set = get_error_set(err_t, n)\n",
        "\n",
        "    for i in range(k):\n",
        "        sx_i = (sx * x ** i) / gen_poly\n",
        "        res = [int(elem % 2) for elem in sx_i[1]]\n",
        "        comparing_res = res[::-1] + [0] * (n - len(res))\n",
        "        if (err_t == -1 and res.count(1) <= t) or (err_t != -1 and comparing_res in error_set):\n",
        "            return np.poly1d(res) * x ** (n - i)\n",
        "    return None"
      ]
    },
    {
      "cell_type": "code",
      "execution_count": null,
      "id": "fdb6066f",
      "metadata": {
        "id": "fdb6066f"
      },
      "outputs": [],
      "source": [
        "def get_sx(gen_poly, w, n):\n",
        "    mod = np.poly1d(w) / gen_poly\n",
        "    sx = [0 for _ in range(n - len(mod[1]) - 1)] + [elem % 2 for elem in mod[1]]\n",
        "    return np.poly1d(sx)"
      ]
    },
    {
      "cell_type": "code",
      "execution_count": null,
      "id": "b9a68625",
      "metadata": {
        "id": "b9a68625"
      },
      "outputs": [],
      "source": [
        "def get_err_word(g_matr, t, err_t = -1):\n",
        "    k = g_matr.shape[0]\n",
        "    n = g_matr.shape[1]\n",
        "\n",
        "    idx = rnd.randint(1, k - 1)\n",
        "    a = g_matr[idx][:k]\n",
        "    print(f\"Исходное сообщение: {a}\")\n",
        "    gen_poly = np.poly1d(g_matr[0][::-1])\n",
        "    v = np.poly1d(a[::-1]) * gen_poly\n",
        "    v = [elem % 2 for elem in v][:n][::-1]\n",
        "    print(f\"Отправленное сообщение: {v}\")\n",
        "    for i in range(t - 1):\n",
        "        v[i] += 1\n",
        "        v[i] %= 2\n",
        "    v[k] += 1\n",
        "    v[k] %= 2\n",
        "    print(f\"Принятое сообщение с ошибкой: {v}\")\n",
        "    error = decode(gen_poly, v[::-1], k, n, t, err_t)\n",
        "    if not error is None:\n",
        "        print(f\"Полученный вектор ошибки:\\n{error}\")\n",
        "        res = np.poly1d(v[::-1]) + error\n",
        "        decoded = [int(elem % 2) for elem in res][::-1][:n]\n",
        "        print(f\"Декодированное сообщение: {decoded}\")\n",
        "    else:\n",
        "        print(\"Исправление ошибки невозможно\")"
      ]
    },
    {
      "cell_type": "code",
      "execution_count": null,
      "id": "fa65e983",
      "metadata": {
        "id": "fa65e983"
      },
      "outputs": [],
      "source": [
        "gen_poly = [1, 1, 0, 1, 0, 0, 0]\n",
        "g_matr = get_G_matr(gen_poly, 4)"
      ]
    },
    {
      "cell_type": "code",
      "execution_count": null,
      "id": "0b741472",
      "metadata": {
        "id": "0b741472"
      },
      "outputs": [],
      "source": [
        "t_list = [1, 2, 3]"
      ]
    },
    {
      "cell_type": "code",
      "execution_count": null,
      "id": "7ff0cef8",
      "metadata": {
        "id": "7ff0cef8",
        "outputId": "f57d7253-9864-4f32-c324-ee76eab4e784"
      },
      "outputs": [
        {
          "name": "stdout",
          "output_type": "stream",
          "text": [
            "\u001b[1mИсследование алгоритма декодрования циклического кода (7, 4) при t = 1\u001b[0m\n",
            "Исходное сообщение: [0 0 0 1]\n",
            "Отправленное сообщение: [0, 0, 0, 1, 1, 0, 1]\n",
            "Принятое сообщение с ошибкой: [0, 0, 0, 1, 0, 0, 1]\n",
            "Полученный вектор ошибки:\n",
            "   4\n",
            "1 x\n",
            "Декодированное сообщение: [0, 0, 0, 1, 1, 0, 1]\n",
            "\n",
            "\n",
            "\u001b[1mИсследование алгоритма декодрования циклического кода (7, 4) при t = 2\u001b[0m\n",
            "Исходное сообщение: [0 1 1 0]\n",
            "Отправленное сообщение: [0, 1, 0, 1, 1, 1]\n",
            "Принятое сообщение с ошибкой: [1, 1, 0, 1, 0, 1]\n",
            "Полученный вектор ошибки:\n",
            "   8     6\n",
            "1 x + 1 x\n",
            "Декодированное сообщение: [1, 1, 0, 1, 0, 1, 1]\n",
            "\n",
            "\n",
            "\u001b[1mИсследование алгоритма декодрования циклического кода (7, 4) при t = 3\u001b[0m\n",
            "Исходное сообщение: [0 0 0 1]\n",
            "Отправленное сообщение: [0, 0, 0, 1, 1, 0, 1]\n",
            "Принятое сообщение с ошибкой: [1, 1, 0, 1, 0, 0, 1]\n",
            "Полученный вектор ошибки:\n",
            "   9     7\n",
            "1 x + 1 x\n",
            "Декодированное сообщение: [1, 1, 0, 1, 0, 0, 1]\n"
          ]
        }
      ],
      "source": [
        "for t in t_list:\n",
        "    print(f\"\\033[1mИсследование алгоритма декодрования циклического кода (7, 4) при t = {t}\\033[0m\")\n",
        "    get_err_word(g_matr, t)\n",
        "    if (t != t_list[-1]):\n",
        "        print(\"\\n\")"
      ]
    },
    {
      "cell_type": "markdown",
      "id": "9c11e11a",
      "metadata": {
        "id": "9c11e11a"
      },
      "source": [
        "### 6.2 Написать функции кодирования и декодирования для циклического кода (15,9) с порождающим многочленом g(x) = 1 + $x^3$ + $x^4$ + $x^5$ + $x^6$, исправляющего пакеты ошибок кратности 3 и провести исследование этого кода для пакетов ошибок длины 1, 2, 3 и 4. Обратите внимание, что пакет ошибок длины t не означает, что все разряды в пределах этого пакета изменятся (см. лекции)."
      ]
    },
    {
      "cell_type": "code",
      "execution_count": null,
      "id": "eab2524a",
      "metadata": {
        "id": "eab2524a"
      },
      "outputs": [],
      "source": [
        "def get_error_set(t, n):\n",
        "    enum = [0, 1] * (t - 1)\n",
        "    error_lst = list(set(itertools.permutations(enum, t)))\n",
        "    res_lst = [comb for comb in error_lst if comb[0] != 0]\n",
        "    res_lst.append(tuple([1 for _ in range(t)]))\n",
        "    return [list(res) + [0] * (n - len(res)) for res in res_lst]"
      ]
    },
    {
      "cell_type": "code",
      "execution_count": null,
      "id": "89e69c77",
      "metadata": {
        "id": "89e69c77"
      },
      "outputs": [],
      "source": [
        "gen_poly = [1, 0, 0, 1, 1, 1, 1, 0, 0, 0, 0, 0, 0, 0, 0]\n",
        "g_matr = get_G_matr(gen_poly, 9)"
      ]
    },
    {
      "cell_type": "code",
      "execution_count": null,
      "id": "a1754019",
      "metadata": {
        "id": "a1754019"
      },
      "outputs": [],
      "source": [
        "t_list = [1, 2, 3, 4]"
      ]
    },
    {
      "cell_type": "code",
      "execution_count": null,
      "id": "99d7cfd3",
      "metadata": {
        "id": "99d7cfd3",
        "outputId": "6ca0ec59-8f22-47c3-ca19-71d09202f085"
      },
      "outputs": [
        {
          "name": "stdout",
          "output_type": "stream",
          "text": [
            "\u001b[1mИсследование алгоритма декодрования циклического кода (15, 9) при t = 1\u001b[0m\n",
            "Исходное сообщение: [0 0 1 0 0 1 1 1 1]\n",
            "Отправленное сообщение: [0, 0, 1, 0, 0, 0, 0, 0, 1, 0, 1, 0, 1, 0, 1]\n",
            "Принятое сообщение с ошибкой: [0, 0, 1, 0, 0, 0, 0, 0, 1, 1, 1, 0, 1, 0, 1]\n",
            "Полученный вектор ошибки:\n",
            "   9\n",
            "1 x\n",
            "Декодированное сообщение: [0, 0, 1, 0, 0, 0, 0, 0, 1, 0, 1, 0, 1, 0, 1]\n",
            "\n",
            "\n",
            "\u001b[1mИсследование алгоритма декодрования циклического кода (15, 9) при t = 2\u001b[0m\n",
            "Исходное сообщение: [0 0 0 0 0 0 0 1 0]\n",
            "Отправленное сообщение: [0, 0, 0, 0, 0, 0, 0, 1, 0, 0, 1, 1, 1, 1]\n",
            "Принятое сообщение с ошибкой: [1, 0, 0, 0, 0, 0, 0, 1, 0, 1, 1, 1, 1, 1]\n",
            "Полученный вектор ошибки:\n",
            "   14     13     12\n",
            "1 x  + 1 x  + 1 x \n",
            "Декодированное сообщение: [1, 0, 0, 0, 0, 0, 0, 1, 0, 1, 1, 1, 0, 0, 1]\n",
            "\n",
            "\n",
            "\u001b[1mИсследование алгоритма декодрования циклического кода (15, 9) при t = 3\u001b[0m\n",
            "Исходное сообщение: [0 0 0 0 0 0 1 0 0]\n",
            "Отправленное сообщение: [0, 0, 0, 0, 0, 0, 1, 0, 0, 1, 1, 1, 1]\n",
            "Принятое сообщение с ошибкой: [1, 1, 0, 0, 0, 0, 1, 0, 0, 0, 1, 1, 1]\n",
            "Исправление ошибки невозможно\n",
            "\n",
            "\n",
            "\u001b[1mИсследование алгоритма декодрования циклического кода (15, 9) при t = 4\u001b[0m\n",
            "Исходное сообщение: [0 0 0 0 0 1 0 0 1]\n",
            "Отправленное сообщение: [0, 0, 0, 0, 0, 1, 0, 0, 0, 1, 1, 0, 1, 1, 1]\n",
            "Принятое сообщение с ошибкой: [1, 1, 1, 0, 0, 1, 0, 0, 0, 0, 1, 0, 1, 1, 1]\n",
            "Исправление ошибки невозможно\n"
          ]
        }
      ],
      "source": [
        "for t in t_list:\n",
        "    print(f\"\\033[1mИсследование алгоритма декодрования циклического кода (15, 9) при t = {t}\\033[0m\")\n",
        "    get_err_word(g_matr, t, 3)\n",
        "    if (t != t_list[-1]):\n",
        "        print(\"\\n\")"
      ]
    },
    {
      "cell_type": "code",
      "execution_count": null,
      "id": "74659a72",
      "metadata": {
        "id": "74659a72"
      },
      "outputs": [],
      "source": []
    }
  ],
  "metadata": {
    "kernelspec": {
      "display_name": "Python 3 (ipykernel)",
      "language": "python",
      "name": "python3"
    },
    "language_info": {
      "codemirror_mode": {
        "name": "ipython",
        "version": 3
      },
      "file_extension": ".py",
      "mimetype": "text/x-python",
      "name": "python",
      "nbconvert_exporter": "python",
      "pygments_lexer": "ipython3",
      "version": "3.11.1"
    },
    "colab": {
      "provenance": [],
      "include_colab_link": true
    }
  },
  "nbformat": 4,
  "nbformat_minor": 5
}